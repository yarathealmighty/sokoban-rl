{
  "nbformat": 4,
  "nbformat_minor": 0,
  "metadata": {
    "colab": {
      "provenance": [],
      "gpuType": "T4",
      "include_colab_link": true
    },
    "kernelspec": {
      "name": "python3",
      "display_name": "Python 3"
    },
    "language_info": {
      "name": "python"
    },
    "accelerator": "GPU"
  },
  "cells": [
    {
      "cell_type": "markdown",
      "metadata": {
        "id": "view-in-github",
        "colab_type": "text"
      },
      "source": [
        "<a href=\"https://colab.research.google.com/github/yarathealmighty/sokoban-rl/blob/main/sokoban_rl_save.ipynb\" target=\"_parent\"><img src=\"https://colab.research.google.com/assets/colab-badge.svg\" alt=\"Open In Colab\"/></a>"
      ]
    },
    {
      "cell_type": "code",
      "source": [
        "\"\"\"\n",
        "notes:\n",
        "stable-baselines3\n",
        "  easy to use\n",
        "  - try\n",
        "samplefactory\n",
        "  gyors, nagyon gyors\n",
        "  - may try (iffy)\n",
        "rllib\n",
        "  ipari\n",
        "  - EHHHHHHHH\n",
        "torchrl\n",
        "  nem keretlib, bonyolultabb használat -> neurális háló\n",
        "  - might be a skip\n",
        "\"\"\""
      ],
      "metadata": {
        "id": "leTJ1r9UXsV0"
      },
      "execution_count": null,
      "outputs": []
    },
    {
      "cell_type": "markdown",
      "source": [
        "# Sokoban-RL"
      ],
      "metadata": {
        "id": "gW6YcGCWJDBz"
      }
    },
    {
      "cell_type": "code",
      "source": [
        "!git clone https://github.com/szegedai/sokoban_gym_szte.git"
      ],
      "metadata": {
        "id": "TqLiaYThJDB3",
        "colab": {
          "base_uri": "https://localhost:8080/"
        },
        "outputId": "8ea4a7df-5b04-42ec-ee85-bfe313ec7eda"
      },
      "execution_count": 1,
      "outputs": [
        {
          "output_type": "stream",
          "name": "stdout",
          "text": [
            "Cloning into 'sokoban_gym_szte'...\n",
            "remote: Enumerating objects: 119, done.\u001b[K\n",
            "remote: Counting objects: 100% (119/119), done.\u001b[K\n",
            "remote: Compressing objects: 100% (72/72), done.\u001b[K\n",
            "remote: Total 119 (delta 53), reused 91 (delta 34), pack-reused 0\u001b[K\n",
            "Receiving objects: 100% (119/119), 34.75 KiB | 741.00 KiB/s, done.\n",
            "Resolving deltas: 100% (53/53), done.\n"
          ]
        }
      ]
    },
    {
      "cell_type": "code",
      "source": [
        "!mv sokoban_gym_szte/* ."
      ],
      "metadata": {
        "id": "1470lL_RJDB5"
      },
      "execution_count": 2,
      "outputs": []
    },
    {
      "cell_type": "code",
      "source": [
        "!pip install gymnasium\n",
        "!pip install --no-deps stable-baselines3"
      ],
      "metadata": {
        "id": "Ul32am72JDB5",
        "colab": {
          "base_uri": "https://localhost:8080/"
        },
        "outputId": "e1794bce-2c06-49e4-8a86-8c1169c0ba06"
      },
      "execution_count": 3,
      "outputs": [
        {
          "output_type": "stream",
          "name": "stdout",
          "text": [
            "Collecting gymnasium\n",
            "  Downloading gymnasium-0.29.1-py3-none-any.whl (953 kB)\n",
            "\u001b[?25l     \u001b[90m━━━━━━━━━━━━━━━━━━━━━━━━━━━━━━━━━━━━━━━━\u001b[0m \u001b[32m0.0/953.9 kB\u001b[0m \u001b[31m?\u001b[0m eta \u001b[36m-:--:--\u001b[0m\r\u001b[2K     \u001b[91m━━\u001b[0m\u001b[91m╸\u001b[0m\u001b[90m━━━━━━━━━━━━━━━━━━━━━━━━━━━━━━━━━━━━━\u001b[0m \u001b[32m61.4/953.9 kB\u001b[0m \u001b[31m2.0 MB/s\u001b[0m eta \u001b[36m0:00:01\u001b[0m\r\u001b[2K     \u001b[91m━━━━━━━━━━━━━━━━━━━━━\u001b[0m\u001b[90m╺\u001b[0m\u001b[90m━━━━━━━━━━━━━━━━━━\u001b[0m \u001b[32m501.8/953.9 kB\u001b[0m \u001b[31m7.8 MB/s\u001b[0m eta \u001b[36m0:00:01\u001b[0m\r\u001b[2K     \u001b[91m━━━━━━━━━━━━━━━━━━━━━━━━━━━━━━━━━━━━━━━\u001b[0m\u001b[91m╸\u001b[0m \u001b[32m952.3/953.9 kB\u001b[0m \u001b[31m10.0 MB/s\u001b[0m eta \u001b[36m0:00:01\u001b[0m\r\u001b[2K     \u001b[90m━━━━━━━━━━━━━━━━━━━━━━━━━━━━━━━━━━━━━━━━\u001b[0m \u001b[32m953.9/953.9 kB\u001b[0m \u001b[31m8.8 MB/s\u001b[0m eta \u001b[36m0:00:00\u001b[0m\n",
            "\u001b[?25hRequirement already satisfied: numpy>=1.21.0 in /usr/local/lib/python3.10/dist-packages (from gymnasium) (1.25.2)\n",
            "Requirement already satisfied: cloudpickle>=1.2.0 in /usr/local/lib/python3.10/dist-packages (from gymnasium) (2.2.1)\n",
            "Requirement already satisfied: typing-extensions>=4.3.0 in /usr/local/lib/python3.10/dist-packages (from gymnasium) (4.11.0)\n",
            "Collecting farama-notifications>=0.0.1 (from gymnasium)\n",
            "  Downloading Farama_Notifications-0.0.4-py3-none-any.whl (2.5 kB)\n",
            "Installing collected packages: farama-notifications, gymnasium\n",
            "Successfully installed farama-notifications-0.0.4 gymnasium-0.29.1\n",
            "Collecting stable-baselines3\n",
            "  Downloading stable_baselines3-2.3.2-py3-none-any.whl (182 kB)\n",
            "\u001b[2K     \u001b[90m━━━━━━━━━━━━━━━━━━━━━━━━━━━━━━━━━━━━━━━━\u001b[0m \u001b[32m182.3/182.3 kB\u001b[0m \u001b[31m3.2 MB/s\u001b[0m eta \u001b[36m0:00:00\u001b[0m\n",
            "\u001b[?25hInstalling collected packages: stable-baselines3\n",
            "Successfully installed stable-baselines3-2.3.2\n"
          ]
        }
      ]
    },
    {
      "cell_type": "code",
      "source": [
        "from stable_baselines3 import A2C\n",
        "from stable_baselines3.common.sb2_compat.rmsprop_tf_like import RMSpropTFLike\n",
        "from sokoban_gym.envs.sokoban_env import SokobanEnv\n",
        "import gymnasium as gym\n",
        "from utils.eval_utils import evaluate, create_videos"
      ],
      "metadata": {
        "id": "xDivNq6AJDB6"
      },
      "execution_count": 4,
      "outputs": []
    },
    {
      "cell_type": "markdown",
      "source": [
        "# 2d struktúra kihasználása"
      ],
      "metadata": {
        "id": "hoVGoFOAJDB-"
      }
    },
    {
      "cell_type": "code",
      "source": [
        "from sokoban_gym.wrappers.observation import ImageObservationWrapper"
      ],
      "metadata": {
        "id": "8xMbLcDSJDB-",
        "colab": {
          "base_uri": "https://localhost:8080/"
        },
        "outputId": "2889e6cc-6dec-46bf-f7f2-b802a45494e5"
      },
      "execution_count": 5,
      "outputs": [
        {
          "output_type": "stream",
          "name": "stderr",
          "text": [
            "/usr/local/lib/python3.10/dist-packages/ipykernel/ipkernel.py:283: DeprecationWarning: `should_run_async` will not call `transform_cell` automatically in the future. Please pass the result to `transformed_cell` argument and any exception that happen during thetransform in `preprocessing_exc_tuple` in IPython 7.17 and above.\n",
            "  and should_run_async(code)\n"
          ]
        }
      ]
    },
    {
      "cell_type": "code",
      "source": [
        "# Környezet létrehozása\n",
        "env = gym.make('Sokoban-v1', size=[(5,5),(6,6),(7,7)], padded_size=(7, 7), num_boxes=[1], render_mode='rgb_array')"
      ],
      "metadata": {
        "id": "JTj9vxbLJDB-"
      },
      "execution_count": 6,
      "outputs": []
    },
    {
      "cell_type": "code",
      "source": [
        "# A megfigyelések kiterjesztése a tábla alapján számolt új jellemzők segítségével.\n",
        "env = ImageObservationWrapper(env, scale=8)"
      ],
      "metadata": {
        "id": "_CnhvjEsJDB_",
        "colab": {
          "base_uri": "https://localhost:8080/"
        },
        "outputId": "b9f2c991-279b-4ae6-b3c2-95f43881b41d"
      },
      "execution_count": 7,
      "outputs": [
        {
          "output_type": "stream",
          "name": "stderr",
          "text": [
            "/usr/local/lib/python3.10/dist-packages/gymnasium/core.py:311: UserWarning: \u001b[33mWARN: env.padded_size to get variables from other wrappers is deprecated and will be removed in v1.0, to get this variable you can do `env.unwrapped.padded_size` for environment variables or `env.get_wrapper_attr('padded_size')` that will search the reminding wrappers.\u001b[0m\n",
            "  logger.warn(\n"
          ]
        }
      ]
    },
    {
      "cell_type": "code",
      "source": [
        "def get_map(env):\n",
        "  return env.unwrapped.grid\n",
        "\n",
        "def set_map(env, seed_num):\n",
        "  env.reset(seed=seed_num)\n",
        "\n",
        "def get_hw(map):\n",
        "  height = len(map)\n",
        "  width = len(map[0])\n",
        "  return (height, width)\n",
        "\n",
        "def get_goals(map):\n",
        "  goal_coords = []\n",
        "  for i in range(0,len(map)):\n",
        "    for j in range(0,len(map[0])):\n",
        "      if map[i][j] == 3:\n",
        "        goal_coords.append((i,j))\n",
        "  return goal_coords\n",
        "\n",
        "def get_boxes(map):\n",
        "  box_coords = []\n",
        "  for i in range(0,len(map)):\n",
        "    for j in range(0,len(map[0])):\n",
        "      if map[i][j] == 2:\n",
        "        box_coords.append((i,j))\n",
        "  return box_coords\n",
        "\n",
        "  def get_player(map):\n",
        "    for i in range(0,len(map)):\n",
        "      for j in range(0,len(map[0])):\n",
        "        if map[i][j] == 4:\n",
        "          return (i,j)"
      ],
      "metadata": {
        "id": "Kvy6F7SDhWl7"
      },
      "execution_count": 8,
      "outputs": []
    },
    {
      "cell_type": "code",
      "source": [
        "def how_many_boxes_are_in_goal(box_coords, goal_coords):\n",
        "  counter=0\n",
        "  for box in box_coords:\n",
        "    box_inplace = False\n",
        "    for goal in goal_coords:\n",
        "      if box == goal:\n",
        "        counter+=1\n",
        "        break\n",
        "  return (counter)"
      ],
      "metadata": {
        "id": "ZONRA4CN061r"
      },
      "execution_count": 9,
      "outputs": []
    },
    {
      "cell_type": "code",
      "source": [
        "def box_checker(box_coords,goal_coords,map):\n",
        "    box_coords_new = box_coords.copy()\n",
        "    goal_coords_new = goal_coords.copy()\n",
        "    if len(box_coords) == 0 or len(goal_coords) == 0:\n",
        "      return (len(box_coords) - len(box_coords_new),box_coords_new,goal_coords_new)\n",
        "    for box in box_coords_new:\n",
        "      for goal in goal_coords_new:\n",
        "        if box == goal:\n",
        "          box_coords_new.remove(box)\n",
        "          goal_coords_new.remove(goal)\n",
        "          break\n",
        "    if is_any_box_in_corner(box_coords_new,map):\n",
        "      return (-1,box_coords_new,goal_coords_new)\n",
        "\n",
        "    return (len(box_coords) - len(box_coords_new),box_coords_new,goal_coords_new)\n"
      ],
      "metadata": {
        "id": "hl2VAgEvxoBW"
      },
      "execution_count": 10,
      "outputs": []
    },
    {
      "cell_type": "code",
      "source": [
        "def is_any_box_in_corner(box_coords, map):\n",
        "  for box in box_coords:\n",
        "    x = box[0]\n",
        "    y = box[1]\n",
        "    if x == 0:\n",
        "      if y == 0:\n",
        "        return True\n",
        "      else:\n",
        "        if y == len(map[0]) -1:\n",
        "          return True\n",
        "        else:\n",
        "          # top row\n",
        "          if map[x][y-1] == 1 or map[x][y+1] == 1:\n",
        "            return True\n",
        "    else:\n",
        "      if x == len(map) -1:\n",
        "        if y == 0:\n",
        "          return True\n",
        "        else:\n",
        "          if y == len(map[0]) -1:\n",
        "            return True\n",
        "          else:\n",
        "            # bottom row\n",
        "            if map[x][y-1] == 1 or map[x][y+1] == 1:\n",
        "              return True\n",
        "      else:\n",
        "        # anywhere inside\n",
        "        if map[x][y-1] == 1 and map[x-1][y] == 1:\n",
        "              return True\n",
        "        if map[x][y+1] == 1 and map[x-1][y] == 1:\n",
        "              return True\n",
        "        if map[x][y-1] == 1 and map[x+1][y] == 1:\n",
        "              return True\n",
        "        if map[x][y+1] == 1 and map[x+1][y] == 1:\n",
        "              return True\n",
        "  return False"
      ],
      "metadata": {
        "id": "LtSpUi980NPp"
      },
      "execution_count": 11,
      "outputs": []
    },
    {
      "cell_type": "code",
      "source": [
        "env.reset(seed=63)[0]"
      ],
      "metadata": {
        "colab": {
          "base_uri": "https://localhost:8080/",
          "height": 99
        },
        "id": "LhcHw5DbhFeP",
        "outputId": "fbe0a906-a566-4814-e999-612242623684"
      },
      "execution_count": null,
      "outputs": [
        {
          "output_type": "execute_result",
          "data": {
            "text/plain": [
              "array([[[0, 0, 0],\n",
              "        [0, 0, 0],\n",
              "        [0, 0, 0],\n",
              "        ...,\n",
              "        [0, 0, 0],\n",
              "        [0, 0, 0],\n",
              "        [0, 0, 0]],\n",
              "\n",
              "       [[0, 0, 0],\n",
              "        [0, 0, 0],\n",
              "        [0, 0, 0],\n",
              "        ...,\n",
              "        [0, 0, 0],\n",
              "        [0, 0, 0],\n",
              "        [0, 0, 0]],\n",
              "\n",
              "       [[0, 0, 0],\n",
              "        [0, 0, 0],\n",
              "        [0, 0, 0],\n",
              "        ...,\n",
              "        [0, 0, 0],\n",
              "        [0, 0, 0],\n",
              "        [0, 0, 0]],\n",
              "\n",
              "       ...,\n",
              "\n",
              "       [[0, 0, 0],\n",
              "        [0, 0, 0],\n",
              "        [0, 0, 0],\n",
              "        ...,\n",
              "        [0, 0, 0],\n",
              "        [0, 0, 0],\n",
              "        [0, 0, 0]],\n",
              "\n",
              "       [[0, 0, 0],\n",
              "        [0, 0, 0],\n",
              "        [0, 0, 0],\n",
              "        ...,\n",
              "        [0, 0, 0],\n",
              "        [0, 0, 0],\n",
              "        [0, 0, 0]],\n",
              "\n",
              "       [[0, 0, 0],\n",
              "        [0, 0, 0],\n",
              "        [0, 0, 0],\n",
              "        ...,\n",
              "        [0, 0, 0],\n",
              "        [0, 0, 0],\n",
              "        [0, 0, 0]]], dtype=uint8)"
            ],
            "text/html": [
              "<style>\n",
              "      .ndarray_repr .ndarray_raw_data {\n",
              "        display: none;\n",
              "      }\n",
              "      .ndarray_repr.show_array .ndarray_raw_data {\n",
              "        display: block;\n",
              "      }\n",
              "      .ndarray_repr.show_array .ndarray_image_preview {\n",
              "        display: none;\n",
              "      }\n",
              "      </style>\n",
              "      <div id=\"id-52dc1ef4-882b-4a16-8ca6-1de141a9d7c7\" class=\"ndarray_repr\"><pre>ndarray (56, 56, 3) <button style=\"padding: 0 2px;\">show data</button></pre><img src=\"data:image/png;base64,iVBORw0KGgoAAAANSUhEUgAAADgAAAA4CAIAAAAn5KxJAAAAkklEQVR4nO3XsQmAMBRF0SgWNjbO4BDu4SS2grqKjSs4iXOkEcFKXCBBgg9D4J7yBz6XFIEYAwD4IlMtWvbWOe+azTmvyjpofx5cFAmhaoSqEapWqBbZ1XMwa/Ync6OEqhGqRqia9x09Lvtnx6tkbpRQNULVCFUL/tff0+icn0MftId/fWyEqhGqlkwoAAAAENMDFokMLnfUlEkAAAAASUVORK5CYII=\" class=\"ndarray_image_preview\" /><pre class=\"ndarray_raw_data\">array([[[0, 0, 0],\n",
              "        [0, 0, 0],\n",
              "        [0, 0, 0],\n",
              "        ...,\n",
              "        [0, 0, 0],\n",
              "        [0, 0, 0],\n",
              "        [0, 0, 0]],\n",
              "\n",
              "       [[0, 0, 0],\n",
              "        [0, 0, 0],\n",
              "        [0, 0, 0],\n",
              "        ...,\n",
              "        [0, 0, 0],\n",
              "        [0, 0, 0],\n",
              "        [0, 0, 0]],\n",
              "\n",
              "       [[0, 0, 0],\n",
              "        [0, 0, 0],\n",
              "        [0, 0, 0],\n",
              "        ...,\n",
              "        [0, 0, 0],\n",
              "        [0, 0, 0],\n",
              "        [0, 0, 0]],\n",
              "\n",
              "       ...,\n",
              "\n",
              "       [[0, 0, 0],\n",
              "        [0, 0, 0],\n",
              "        [0, 0, 0],\n",
              "        ...,\n",
              "        [0, 0, 0],\n",
              "        [0, 0, 0],\n",
              "        [0, 0, 0]],\n",
              "\n",
              "       [[0, 0, 0],\n",
              "        [0, 0, 0],\n",
              "        [0, 0, 0],\n",
              "        ...,\n",
              "        [0, 0, 0],\n",
              "        [0, 0, 0],\n",
              "        [0, 0, 0]],\n",
              "\n",
              "       [[0, 0, 0],\n",
              "        [0, 0, 0],\n",
              "        [0, 0, 0],\n",
              "        ...,\n",
              "        [0, 0, 0],\n",
              "        [0, 0, 0],\n",
              "        [0, 0, 0]]], dtype=uint8)</pre></div><script>\n",
              "      (() => {\n",
              "      const titles = ['show data', 'hide data'];\n",
              "      let index = 0\n",
              "      document.querySelector('#id-52dc1ef4-882b-4a16-8ca6-1de141a9d7c7 button').onclick = (e) => {\n",
              "        document.querySelector('#id-52dc1ef4-882b-4a16-8ca6-1de141a9d7c7').classList.toggle('show_array');\n",
              "        index = (++index) % 2;\n",
              "        document.querySelector('#id-52dc1ef4-882b-4a16-8ca6-1de141a9d7c7 button').textContent = titles[index];\n",
              "        e.preventDefault();\n",
              "        e.stopPropagation();\n",
              "      }\n",
              "      })();\n",
              "    </script>"
            ]
          },
          "metadata": {},
          "execution_count": 31
        }
      ]
    },
    {
      "cell_type": "code",
      "source": [
        "def same_maps(map1, map2):\n",
        "    if len(map1) != len(map2) or len(map1[0]) != len(map2[0]):\n",
        "        return False\n",
        "    for i in range(len(map1)):\n",
        "        for j in range(len(map1[i])):\n",
        "            if map1[i][j] != map2[i][j]:\n",
        "                return False\n",
        "    return True"
      ],
      "metadata": {
        "id": "abv6qsIv_Qop"
      },
      "execution_count": 12,
      "outputs": []
    },
    {
      "cell_type": "code",
      "source": [
        "import numpy as np\n",
        "def copy_map(map1):\n",
        "  map2 = []\n",
        "  for row in map1:\n",
        "    row2 = []\n",
        "    for element in row:\n",
        "      row2.append(element)\n",
        "    map2.append(row2)\n",
        "  converted_map = np.array(map2)\n",
        "  return converted_map"
      ],
      "metadata": {
        "id": "0ybFkm-s9Cqw"
      },
      "execution_count": 13,
      "outputs": []
    },
    {
      "cell_type": "code",
      "source": [
        "class CustomRewardWrapper(gym.Wrapper):\n",
        "\n",
        "  def __init__(self, env):\n",
        "    super().__init__(env)\n",
        "    self.map = None\n",
        "    self.previous_map = None\n",
        "    self.init_run = True\n",
        "\n",
        "  def step(self, action):\n",
        "    obs, reward, terminated, truncated, info = self.env.step(action)\n",
        "    # saving the previous map\n",
        "    if not self.init_run:\n",
        "      self.previous_map = copy_map(self.map)\n",
        "\n",
        "    # getting the current map\n",
        "    self.map = copy_map(get_map(env))\n",
        "    box_coords = get_boxes(self.map)\n",
        "\n",
        "    # initializing run\n",
        "    if self.init_run:\n",
        "      self.same_steps = 0\n",
        "      self.goal_coords = info['target_locations']\n",
        "      self.init_run = False\n",
        "      boxes_num = how_many_boxes_are_in_goal(box_coords,self.goal_coords)\n",
        "      tmp_num = boxes_num - len(box_coords)\n",
        "      reward +=  tmp_num\n",
        "      return obs, reward, terminated, truncated, info\n",
        "\n",
        "    # checking if the agent did anything that changed the map\n",
        "    if same_maps(self.map, self.previous_map):\n",
        "      reward -= 10 * self.same_steps\n",
        "      self.same_steps += 1\n",
        "    else:\n",
        "      self.same_steps = 0\n",
        "# ----------------------------<testing part>----------------------------\n",
        "\n",
        "\n",
        "\n",
        "# -------------------------<end of testing part>------------------------\n",
        "\n",
        "    # checking how many boxes are currently in place\n",
        "    tmp = box_checker(box_coords,self.goal_coords,self.map)\n",
        "    if tmp == -1:\n",
        "      reward -= 10000\n",
        "\n",
        "    reward += tmp[0]\n",
        "\n",
        "    # checking if game got reset\n",
        "    if terminated:\n",
        "      reward += 100\n",
        "      self.init_run = True\n",
        "\n",
        "    return obs, reward, terminated, truncated, info"
      ],
      "metadata": {
        "id": "a5IMRqDV1stF"
      },
      "execution_count": 14,
      "outputs": []
    },
    {
      "cell_type": "code",
      "source": [
        "# Környezet létrehozása\n",
        "env = gym.make('Sokoban-v1', size=[(5,5),(6,6),(7,7)], padded_size=(7, 7), num_boxes=[1], render_mode='rgb_array')\n",
        "# A megfigyelések kiterjesztése a tábla alapján számolt új jellemzők segítségével.\n",
        "env = ImageObservationWrapper(env, scale=8)\n",
        "# Modell létrehozása\n",
        "env = CustomRewardWrapper(env)\n",
        "model = A2C('CnnPolicy', env, policy_kwargs=dict(optimizer_class=RMSpropTFLike, optimizer_kwargs=dict(eps=1e-7)), verbose=4, seed=1)"
      ],
      "metadata": {
        "id": "I38PVOa4JDB_",
        "colab": {
          "base_uri": "https://localhost:8080/"
        },
        "outputId": "0a75da68-4a6d-44ac-92f0-a6c361dd840c"
      },
      "execution_count": 15,
      "outputs": [
        {
          "output_type": "stream",
          "name": "stdout",
          "text": [
            "Using cuda device\n",
            "Wrapping the env with a `Monitor` wrapper\n",
            "Wrapping the env in a DummyVecEnv.\n",
            "Wrapping the env in a VecTransposeImage.\n"
          ]
        }
      ]
    },
    {
      "cell_type": "code",
      "source": [
        "env.reset(seed=42)\n",
        "print('----------------------------------------')\n",
        "obs, reward, terminated, truncated, info = env.step(4)\n",
        "print('[LOG]reward: ',reward)\n",
        "print('[LOG]map: \\n',env.map)\n",
        "print('[LOG]terminated: ', terminated, ' truncated: ', truncated)\n",
        "print('[LOG]box_checker: ',box_checker(get_boxes(env.map),env.goal_coords,env.map))\n",
        "print('[LOG]boxes: ', get_boxes(env.map), ' goals: ', env.goal_coords)\n",
        "print('----------------------------------------')\n",
        "obs, reward, terminated, truncated, info = env.step(1)\n",
        "print('[LOG]reward: ',reward)\n",
        "print('[LOG]map: \\n',env.map)\n",
        "print('[LOG]terminated: ', terminated, ' truncated: ', truncated)\n",
        "print('[LOG]box_checker: ',box_checker(get_boxes(env.map),env.goal_coords,env.map))\n",
        "print('[LOG]boxes: ', get_boxes(env.map), ' goals: ', env.goal_coords)\n",
        "print('----------------------------------------')\n",
        "obs, reward, terminated, truncated, info = env.step(4)\n",
        "print('[LOG]reward: ',reward)\n",
        "print('[LOG]map: \\n',env.map)\n",
        "print('[LOG]terminated: ', terminated, ' truncated: ', truncated)\n",
        "print('[LOG]box_checker: ',box_checker(get_boxes(env.map),env.goal_coords,env.map))\n",
        "print('[LOG]boxes: ', get_boxes(env.map), ' goals: ', env.goal_coords)\n",
        "print('----------------------------------------')\n",
        "obs, reward, terminated, truncated, info = env.step(2)\n",
        "print('[LOG]reward: ',reward)\n",
        "print('[LOG]map: \\n',env.map)\n",
        "print('[LOG]terminated: ', terminated, ' truncated: ', truncated)\n",
        "print('[LOG]box_checker: ',box_checker(get_boxes(env.map),env.goal_coords,env.map))\n",
        "print('[LOG]boxes: ', get_boxes(env.map), ' goals: ', env.goal_coords)"
      ],
      "metadata": {
        "colab": {
          "base_uri": "https://localhost:8080/"
        },
        "id": "krHKAZad12qn",
        "outputId": "92874a31-02d7-41a1-c9f5-2b849c2b512a"
      },
      "execution_count": 16,
      "outputs": [
        {
          "output_type": "stream",
          "name": "stdout",
          "text": [
            "----------------------------------------\n",
            "[LOG]reward:  -1.0\n",
            "[LOG]map: \n",
            " [[1 1 1 1 1 1 1]\n",
            " [1 0 0 0 1 1 1]\n",
            " [1 0 4 2 1 1 1]\n",
            " [1 1 0 3 1 1 1]\n",
            " [1 1 1 1 1 1 1]\n",
            " [1 1 1 1 1 1 1]\n",
            " [1 1 1 1 1 1 1]]\n",
            "[LOG]terminated:  False  truncated:  False\n",
            "[LOG]box_checker:  (0, [(2, 3)], [(3, 3)])\n",
            "[LOG]boxes:  [(2, 3)]  goals:  [(3, 3)]\n",
            "----------------------------------------\n",
            "[LOG]reward:  0.0\n",
            "[LOG]map: \n",
            " [[1 1 1 1 1 1 1]\n",
            " [1 0 4 0 1 1 1]\n",
            " [1 0 0 2 1 1 1]\n",
            " [1 1 0 3 1 1 1]\n",
            " [1 1 1 1 1 1 1]\n",
            " [1 1 1 1 1 1 1]\n",
            " [1 1 1 1 1 1 1]]\n",
            "[LOG]terminated:  False  truncated:  False\n",
            "[LOG]box_checker:  (0, [(2, 3)], [(3, 3)])\n",
            "[LOG]boxes:  [(2, 3)]  goals:  [(3, 3)]\n",
            "----------------------------------------\n",
            "[LOG]reward:  0.0\n",
            "[LOG]map: \n",
            " [[1 1 1 1 1 1 1]\n",
            " [1 0 0 4 1 1 1]\n",
            " [1 0 0 2 1 1 1]\n",
            " [1 1 0 3 1 1 1]\n",
            " [1 1 1 1 1 1 1]\n",
            " [1 1 1 1 1 1 1]\n",
            " [1 1 1 1 1 1 1]]\n",
            "[LOG]terminated:  False  truncated:  False\n",
            "[LOG]box_checker:  (0, [(2, 3)], [(3, 3)])\n",
            "[LOG]boxes:  [(2, 3)]  goals:  [(3, 3)]\n",
            "----------------------------------------\n",
            "[LOG]reward:  102.0\n",
            "[LOG]map: \n",
            " [[1 1 1 1 1 1 1]\n",
            " [1 0 0 0 1 1 1]\n",
            " [1 0 0 4 1 1 1]\n",
            " [1 1 0 2 1 1 1]\n",
            " [1 1 1 1 1 1 1]\n",
            " [1 1 1 1 1 1 1]\n",
            " [1 1 1 1 1 1 1]]\n",
            "[LOG]terminated:  True  truncated:  False\n",
            "[LOG]box_checker:  (1, [], [])\n",
            "[LOG]boxes:  [(3, 3)]  goals:  [(3, 3)]\n"
          ]
        },
        {
          "output_type": "stream",
          "name": "stderr",
          "text": [
            "/usr/local/lib/python3.10/dist-packages/ipykernel/ipkernel.py:283: DeprecationWarning: `should_run_async` will not call `transform_cell` automatically in the future. Please pass the result to `transformed_cell` argument and any exception that happen during thetransform in `preprocessing_exc_tuple` in IPython 7.17 and above.\n",
            "  and should_run_async(code)\n"
          ]
        }
      ]
    },
    {
      "cell_type": "code",
      "source": [
        "# Tanulás\n",
        "model.learn(total_timesteps=4000)\n",
        "# Model kimentése\n",
        "model.save(\"models/Sokoban-v1_5_8_1box_A2C_CNN\")\n",
        "# Kiértékelés 100 véletlen környezetben\n",
        "score = evaluate(env, model, 100)\n",
        "print(\"Score: {}\".format(score))"
      ],
      "metadata": {
        "id": "4u0p7wmeJDCA",
        "colab": {
          "base_uri": "https://localhost:8080/"
        },
        "outputId": "4d809641-f34c-4c79-c27d-bf5b9355b361"
      },
      "execution_count": 17,
      "outputs": [
        {
          "output_type": "stream",
          "name": "stdout",
          "text": [
            "------------------------------------\n",
            "| rollout/              |          |\n",
            "|    ep_len_mean        | 30.7     |\n",
            "|    ep_rew_mean        | -121     |\n",
            "| time/                 |          |\n",
            "|    fps                | 108      |\n",
            "|    iterations         | 100      |\n",
            "|    time_elapsed       | 4        |\n",
            "|    total_timesteps    | 500      |\n",
            "| train/                |          |\n",
            "|    entropy_loss       | -1.61    |\n",
            "|    explained_variance | 0.00191  |\n",
            "|    learning_rate      | 0.0007   |\n",
            "|    n_updates          | 99       |\n",
            "|    policy_loss        | -39.8    |\n",
            "|    value_loss         | 771      |\n",
            "------------------------------------\n",
            "------------------------------------\n",
            "| rollout/              |          |\n",
            "|    ep_len_mean        | 31.7     |\n",
            "|    ep_rew_mean        | -194     |\n",
            "| time/                 |          |\n",
            "|    fps                | 145      |\n",
            "|    iterations         | 200      |\n",
            "|    time_elapsed       | 6        |\n",
            "|    total_timesteps    | 1000     |\n",
            "| train/                |          |\n",
            "|    entropy_loss       | -1.61    |\n",
            "|    explained_variance | 0        |\n",
            "|    learning_rate      | 0.0007   |\n",
            "|    n_updates          | 199      |\n",
            "|    policy_loss        | -222     |\n",
            "|    value_loss         | 2.14e+04 |\n",
            "------------------------------------\n",
            "------------------------------------\n",
            "| rollout/              |          |\n",
            "|    ep_len_mean        | 34.7     |\n",
            "|    ep_rew_mean        | -231     |\n",
            "| time/                 |          |\n",
            "|    fps                | 174      |\n",
            "|    iterations         | 300      |\n",
            "|    time_elapsed       | 8        |\n",
            "|    total_timesteps    | 1500     |\n",
            "| train/                |          |\n",
            "|    entropy_loss       | -1.61    |\n",
            "|    explained_variance | 0.00303  |\n",
            "|    learning_rate      | 0.0007   |\n",
            "|    n_updates          | 299      |\n",
            "|    policy_loss        | 129      |\n",
            "|    value_loss         | 8.13e+03 |\n",
            "------------------------------------\n",
            "------------------------------------\n",
            "| rollout/              |          |\n",
            "|    ep_len_mean        | 35.7     |\n",
            "|    ep_rew_mean        | -218     |\n",
            "| time/                 |          |\n",
            "|    fps                | 193      |\n",
            "|    iterations         | 400      |\n",
            "|    time_elapsed       | 10       |\n",
            "|    total_timesteps    | 2000     |\n",
            "| train/                |          |\n",
            "|    entropy_loss       | -1.61    |\n",
            "|    explained_variance | 0.0611   |\n",
            "|    learning_rate      | 0.0007   |\n",
            "|    n_updates          | 399      |\n",
            "|    policy_loss        | 4.99     |\n",
            "|    value_loss         | 11.4     |\n",
            "------------------------------------\n",
            "------------------------------------\n",
            "| rollout/              |          |\n",
            "|    ep_len_mean        | 34.7     |\n",
            "|    ep_rew_mean        | -210     |\n",
            "| time/                 |          |\n",
            "|    fps                | 206      |\n",
            "|    iterations         | 500      |\n",
            "|    time_elapsed       | 12       |\n",
            "|    total_timesteps    | 2500     |\n",
            "| train/                |          |\n",
            "|    entropy_loss       | -1.61    |\n",
            "|    explained_variance | 0.00339  |\n",
            "|    learning_rate      | 0.0007   |\n",
            "|    n_updates          | 499      |\n",
            "|    policy_loss        | 4.82     |\n",
            "|    value_loss         | 11.1     |\n",
            "------------------------------------\n",
            "------------------------------------\n",
            "| rollout/              |          |\n",
            "|    ep_len_mean        | 34.4     |\n",
            "|    ep_rew_mean        | -187     |\n",
            "| time/                 |          |\n",
            "|    fps                | 214      |\n",
            "|    iterations         | 600      |\n",
            "|    time_elapsed       | 13       |\n",
            "|    total_timesteps    | 3000     |\n",
            "| train/                |          |\n",
            "|    entropy_loss       | -1.58    |\n",
            "|    explained_variance | 0.0172   |\n",
            "|    learning_rate      | 0.0007   |\n",
            "|    n_updates          | 599      |\n",
            "|    policy_loss        | -2.59    |\n",
            "|    value_loss         | 18.3     |\n",
            "------------------------------------\n",
            "------------------------------------\n",
            "| rollout/              |          |\n",
            "|    ep_len_mean        | 34.7     |\n",
            "|    ep_rew_mean        | -193     |\n",
            "| time/                 |          |\n",
            "|    fps                | 222      |\n",
            "|    iterations         | 700      |\n",
            "|    time_elapsed       | 15       |\n",
            "|    total_timesteps    | 3500     |\n",
            "| train/                |          |\n",
            "|    entropy_loss       | -1.57    |\n",
            "|    explained_variance | 0.000235 |\n",
            "|    learning_rate      | 0.0007   |\n",
            "|    n_updates          | 699      |\n",
            "|    policy_loss        | -31.4    |\n",
            "|    value_loss         | 578      |\n",
            "------------------------------------\n",
            "------------------------------------\n",
            "| rollout/              |          |\n",
            "|    ep_len_mean        | 35       |\n",
            "|    ep_rew_mean        | -189     |\n",
            "| time/                 |          |\n",
            "|    fps                | 223      |\n",
            "|    iterations         | 800      |\n",
            "|    time_elapsed       | 17       |\n",
            "|    total_timesteps    | 4000     |\n",
            "| train/                |          |\n",
            "|    entropy_loss       | -1.04    |\n",
            "|    explained_variance | -0.00727 |\n",
            "|    learning_rate      | 0.0007   |\n",
            "|    n_updates          | 799      |\n",
            "|    policy_loss        | -4.94    |\n",
            "|    value_loss         | 24.3     |\n",
            "------------------------------------\n"
          ]
        },
        {
          "output_type": "stream",
          "name": "stderr",
          "text": [
            "/usr/local/lib/python3.10/dist-packages/stable_baselines3/common/save_util.py:284: UserWarning: Path 'models' does not exist. Will create it.\n",
            "  warnings.warn(f\"Path '{path.parent}' does not exist. Will create it.\")\n",
            "100%|██████████| 100/100 [00:08<00:00, 11.64it/s]"
          ]
        },
        {
          "output_type": "stream",
          "name": "stdout",
          "text": [
            "Score: -10490.02\n"
          ]
        },
        {
          "output_type": "stream",
          "name": "stderr",
          "text": [
            "\n"
          ]
        }
      ]
    },
    {
      "cell_type": "code",
      "source": [
        "# Videók készítése\n",
        "create_videos(env, model, folder=\"cnn_videos\", ep_num=10)\n",
        "show_videos(\"cnn_videos\")"
      ],
      "metadata": {
        "id": "0Nip-eizJDCA",
        "colab": {
          "base_uri": "https://localhost:8080/",
          "height": 1000
        },
        "outputId": "7b0b245a-b838-49c5-92fc-d71a751f67a9"
      },
      "execution_count": 40,
      "outputs": [
        {
          "output_type": "stream",
          "name": "stderr",
          "text": [
            "/usr/local/lib/python3.10/dist-packages/gymnasium/wrappers/record_video.py:94: UserWarning: \u001b[33mWARN: Overwriting existing videos at /content/cnn_videos folder (try specifying a different `video_folder` for the `RecordVideo` wrapper if this is not desired)\u001b[0m\n",
            "  logger.warn(\n",
            "  0%|          | 0/10 [00:00<?, ?it/s]"
          ]
        },
        {
          "output_type": "stream",
          "name": "stdout",
          "text": [
            "Moviepy - Building video /content/cnn_videos/rl-video-episode-0.mp4.\n",
            "Moviepy - Writing video /content/cnn_videos/rl-video-episode-0.mp4\n",
            "\n"
          ]
        },
        {
          "output_type": "stream",
          "name": "stderr",
          "text": [
            "\n",
            "t:   0%|          | 0/51 [00:00<?, ?it/s, now=None]\u001b[A\n",
            " 10%|█         | 1/10 [00:00<00:01,  5.90it/s]"
          ]
        },
        {
          "output_type": "stream",
          "name": "stdout",
          "text": [
            "Moviepy - Done !\n",
            "Moviepy - video ready /content/cnn_videos/rl-video-episode-0.mp4\n",
            "Moviepy - Building video /content/cnn_videos/rl-video-episode-1.mp4.\n",
            "Moviepy - Writing video /content/cnn_videos/rl-video-episode-1.mp4\n",
            "\n"
          ]
        },
        {
          "output_type": "stream",
          "name": "stderr",
          "text": [
            "\n",
            "t:   0%|          | 0/51 [00:00<?, ?it/s, now=None]\u001b[A\n",
            " 20%|██        | 2/10 [00:00<00:01,  5.84it/s]"
          ]
        },
        {
          "output_type": "stream",
          "name": "stdout",
          "text": [
            "Moviepy - Done !\n",
            "Moviepy - video ready /content/cnn_videos/rl-video-episode-1.mp4\n"
          ]
        },
        {
          "output_type": "stream",
          "name": "stderr",
          "text": [
            " 20%|██        | 2/10 [00:00<00:01,  5.84it/s]"
          ]
        },
        {
          "output_type": "stream",
          "name": "stdout",
          "text": [
            "Moviepy - Building video /content/cnn_videos/rl-video-episode-2.mp4.\n",
            "Moviepy - Writing video /content/cnn_videos/rl-video-episode-2.mp4\n",
            "\n"
          ]
        },
        {
          "output_type": "stream",
          "name": "stderr",
          "text": [
            "\n",
            "t:   0%|          | 0/51 [00:00<?, ?it/s, now=None]\u001b[A\n",
            " 30%|███       | 3/10 [00:00<00:01,  5.57it/s]"
          ]
        },
        {
          "output_type": "stream",
          "name": "stdout",
          "text": [
            "Moviepy - Done !\n",
            "Moviepy - video ready /content/cnn_videos/rl-video-episode-2.mp4\n"
          ]
        },
        {
          "output_type": "stream",
          "name": "stderr",
          "text": [
            " 30%|███       | 3/10 [00:00<00:01,  5.57it/s]"
          ]
        },
        {
          "output_type": "stream",
          "name": "stdout",
          "text": [
            "Moviepy - Building video /content/cnn_videos/rl-video-episode-3.mp4.\n"
          ]
        },
        {
          "output_type": "stream",
          "name": "stderr",
          "text": [
            " 30%|███       | 3/10 [00:00<00:01,  5.57it/s]"
          ]
        },
        {
          "output_type": "stream",
          "name": "stdout",
          "text": [
            "Moviepy - Writing video /content/cnn_videos/rl-video-episode-3.mp4\n",
            "\n"
          ]
        },
        {
          "output_type": "stream",
          "name": "stderr",
          "text": [
            "\n",
            "t:   0%|          | 0/51 [00:00<?, ?it/s, now=None]\u001b[A\n",
            " 40%|████      | 4/10 [00:00<00:01,  5.32it/s]"
          ]
        },
        {
          "output_type": "stream",
          "name": "stdout",
          "text": [
            "Moviepy - Done !\n",
            "Moviepy - video ready /content/cnn_videos/rl-video-episode-3.mp4\n",
            "Moviepy - Building video /content/cnn_videos/rl-video-episode-4.mp4.\n",
            "Moviepy - Writing video /content/cnn_videos/rl-video-episode-4.mp4\n",
            "\n"
          ]
        },
        {
          "output_type": "stream",
          "name": "stderr",
          "text": [
            "\n",
            "t:   0%|          | 0/51 [00:00<?, ?it/s, now=None]\u001b[A\n",
            " 50%|█████     | 5/10 [00:00<00:00,  5.43it/s]"
          ]
        },
        {
          "output_type": "stream",
          "name": "stdout",
          "text": [
            "Moviepy - Done !\n",
            "Moviepy - video ready /content/cnn_videos/rl-video-episode-4.mp4\n"
          ]
        },
        {
          "output_type": "stream",
          "name": "stderr",
          "text": [
            " 50%|█████     | 5/10 [00:01<00:00,  5.43it/s]"
          ]
        },
        {
          "output_type": "stream",
          "name": "stdout",
          "text": [
            "Moviepy - Building video /content/cnn_videos/rl-video-episode-5.mp4.\n",
            "Moviepy - Writing video /content/cnn_videos/rl-video-episode-5.mp4\n",
            "\n"
          ]
        },
        {
          "output_type": "stream",
          "name": "stderr",
          "text": [
            "\n",
            "t:   0%|          | 0/51 [00:00<?, ?it/s, now=None]\u001b[A\n",
            " 60%|██████    | 6/10 [00:01<00:00,  5.51it/s]"
          ]
        },
        {
          "output_type": "stream",
          "name": "stdout",
          "text": [
            "Moviepy - Done !\n",
            "Moviepy - video ready /content/cnn_videos/rl-video-episode-5.mp4\n"
          ]
        },
        {
          "output_type": "stream",
          "name": "stderr",
          "text": [
            " 60%|██████    | 6/10 [00:01<00:00,  5.51it/s]"
          ]
        },
        {
          "output_type": "stream",
          "name": "stdout",
          "text": [
            "Moviepy - Building video /content/cnn_videos/rl-video-episode-6.mp4.\n",
            "Moviepy - Writing video /content/cnn_videos/rl-video-episode-6.mp4\n",
            "\n"
          ]
        },
        {
          "output_type": "stream",
          "name": "stderr",
          "text": [
            "\n",
            "t:   0%|          | 0/51 [00:00<?, ?it/s, now=None]\u001b[A\n",
            " 70%|███████   | 7/10 [00:01<00:00,  5.63it/s]"
          ]
        },
        {
          "output_type": "stream",
          "name": "stdout",
          "text": [
            "Moviepy - Done !\n",
            "Moviepy - video ready /content/cnn_videos/rl-video-episode-6.mp4\n"
          ]
        },
        {
          "output_type": "stream",
          "name": "stderr",
          "text": [
            " 70%|███████   | 7/10 [00:01<00:00,  5.63it/s]"
          ]
        },
        {
          "output_type": "stream",
          "name": "stdout",
          "text": [
            "Moviepy - Building video /content/cnn_videos/rl-video-episode-7.mp4.\n",
            "Moviepy - Writing video /content/cnn_videos/rl-video-episode-7.mp4\n",
            "\n"
          ]
        },
        {
          "output_type": "stream",
          "name": "stderr",
          "text": [
            "\n",
            "t:   0%|          | 0/51 [00:00<?, ?it/s, now=None]\u001b[A\n",
            " 80%|████████  | 8/10 [00:01<00:00,  5.51it/s]"
          ]
        },
        {
          "output_type": "stream",
          "name": "stdout",
          "text": [
            "Moviepy - Done !\n",
            "Moviepy - video ready /content/cnn_videos/rl-video-episode-7.mp4\n"
          ]
        },
        {
          "output_type": "stream",
          "name": "stderr",
          "text": [
            " 80%|████████  | 8/10 [00:01<00:00,  5.51it/s]"
          ]
        },
        {
          "output_type": "stream",
          "name": "stdout",
          "text": [
            "Moviepy - Building video /content/cnn_videos/rl-video-episode-8.mp4.\n",
            "Moviepy - Writing video /content/cnn_videos/rl-video-episode-8.mp4\n",
            "\n"
          ]
        },
        {
          "output_type": "stream",
          "name": "stderr",
          "text": [
            "\n",
            "t:   0%|          | 0/51 [00:00<?, ?it/s, now=None]\u001b[A\n",
            " 90%|█████████ | 9/10 [00:01<00:00,  5.50it/s]"
          ]
        },
        {
          "output_type": "stream",
          "name": "stdout",
          "text": [
            "Moviepy - Done !\n",
            "Moviepy - video ready /content/cnn_videos/rl-video-episode-8.mp4\n"
          ]
        },
        {
          "output_type": "stream",
          "name": "stderr",
          "text": [
            " 90%|█████████ | 9/10 [00:01<00:00,  5.50it/s]"
          ]
        },
        {
          "output_type": "stream",
          "name": "stdout",
          "text": [
            "Moviepy - Building video /content/cnn_videos/rl-video-episode-9.mp4.\n",
            "Moviepy - Writing video /content/cnn_videos/rl-video-episode-9.mp4\n",
            "\n"
          ]
        },
        {
          "output_type": "stream",
          "name": "stderr",
          "text": [
            "\n",
            "t:   0%|          | 0/2 [00:00<?, ?it/s, now=None]\u001b[A\n",
            "100%|██████████| 10/10 [00:01<00:00,  5.93it/s]"
          ]
        },
        {
          "output_type": "stream",
          "name": "stdout",
          "text": [
            "Moviepy - Done !\n",
            "Moviepy - video ready /content/cnn_videos/rl-video-episode-9.mp4\n",
            "\n",
            "SHOWING VIDEO cnn_videos/rl-video-episode-0.mp4\n"
          ]
        },
        {
          "output_type": "stream",
          "name": "stderr",
          "text": [
            "\n"
          ]
        },
        {
          "output_type": "display_data",
          "data": {
            "text/plain": [
              "<IPython.core.display.HTML object>"
            ],
            "text/html": [
              "<video alt=\"test\" autoplay\n",
              "                loop controls style=\"height: 400px;\">\n",
              "                <source src=\"data:video/mp4;base64,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\" type=\"video/mp4\" />\n",
              "             </video>"
            ]
          },
          "metadata": {}
        },
        {
          "output_type": "stream",
          "name": "stdout",
          "text": [
            "\n",
            "SHOWING VIDEO cnn_videos/rl-video-episode-1.mp4\n"
          ]
        },
        {
          "output_type": "display_data",
          "data": {
            "text/plain": [
              "<IPython.core.display.HTML object>"
            ],
            "text/html": [
              "<video alt=\"test\" autoplay\n",
              "                loop controls style=\"height: 400px;\">\n",
              "                <source src=\"data:video/mp4;base64,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\" type=\"video/mp4\" />\n",
              "             </video>"
            ]
          },
          "metadata": {}
        },
        {
          "output_type": "stream",
          "name": "stdout",
          "text": [
            "\n",
            "SHOWING VIDEO cnn_videos/rl-video-episode-2.mp4\n"
          ]
        },
        {
          "output_type": "display_data",
          "data": {
            "text/plain": [
              "<IPython.core.display.HTML object>"
            ],
            "text/html": [
              "<video alt=\"test\" autoplay\n",
              "                loop controls style=\"height: 400px;\">\n",
              "                <source src=\"data:video/mp4;base64,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\" type=\"video/mp4\" />\n",
              "             </video>"
            ]
          },
          "metadata": {}
        },
        {
          "output_type": "stream",
          "name": "stdout",
          "text": [
            "\n",
            "SHOWING VIDEO cnn_videos/rl-video-episode-3.mp4\n"
          ]
        },
        {
          "output_type": "display_data",
          "data": {
            "text/plain": [
              "<IPython.core.display.HTML object>"
            ],
            "text/html": [
              "<video alt=\"test\" autoplay\n",
              "                loop controls style=\"height: 400px;\">\n",
              "                <source src=\"data:video/mp4;base64,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\" type=\"video/mp4\" />\n",
              "             </video>"
            ]
          },
          "metadata": {}
        },
        {
          "output_type": "stream",
          "name": "stdout",
          "text": [
            "\n",
            "SHOWING VIDEO cnn_videos/rl-video-episode-4.mp4\n"
          ]
        },
        {
          "output_type": "display_data",
          "data": {
            "text/plain": [
              "<IPython.core.display.HTML object>"
            ],
            "text/html": [
              "<video alt=\"test\" autoplay\n",
              "                loop controls style=\"height: 400px;\">\n",
              "                <source src=\"data:video/mp4;base64,AAAAIGZ0eXBpc29tAAACAGlzb21pc28yYXZjMW1wNDEAAAAIZnJlZQAABxVtZGF0AAACrQYF//+p3EXpvebZSLeWLNgg2SPu73gyNjQgLSBjb3JlIDE1OSByMjk5MSAxNzcxYjU1IC0gSC4yNjQvTVBFRy00IEFWQyBjb2RlYyAtIENvcHlsZWZ0IDIwMDMtMjAxOSAtIGh0dHA6Ly93d3cudmlkZW9sYW4ub3JnL3gyNjQuaHRtbCAtIG9wdGlvbnM6IGNhYmFjPTEgcmVmPTMgZGVibG9jaz0xOjA6MCBhbmFseXNlPTB4MzoweDExMyBtZT1oZXggc3VibWU9NyBwc3k9MSBwc3lfcmQ9MS4wMDowLjAwIG1peGVkX3JlZj0xIG1lX3JhbmdlPTE2IGNocm9tYV9tZT0xIHRyZWxsaXM9MSA4eDhkY3Q9MSBjcW09MCBkZWFkem9uZT0yMSwxMSBmYXN0X3Bza2lwPTEgY2hyb21hX3FwX29mZnNldD0tMiB0aHJlYWRzPTMgbG9va2FoZWFkX3RocmVhZHM9MSBzbGljZWRfdGhyZWFkcz0wIG5yPTAgZGVjaW1hdGU9MSBpbnRlcmxhY2VkPTAgYmx1cmF5X2NvbXBhdD0wIGNvbnN0cmFpbmVkX2ludHJhPTAgYmZyYW1lcz0zIGJfcHlyYW1pZD0yIGJfYWRhcHQ9MSBiX2JpYXM9MCBkaXJlY3Q9MSB3ZWlnaHRiPTEgb3Blbl9nb3A9MCB3ZWlnaHRwPTIga2V5aW50PTI1MCBrZXlpbnRfbWluPTQgc2NlbmVjdXQ9NDAgaW50cmFfcmVmcmVzaD0wIHJjX2xvb2thaGVhZD00MCByYz1jcmYgbWJ0cmVlPTEgY3JmPTIzLjAgcWNvbXA9MC42MCBxcG1pbj0wIHFwbWF4PTY5IHFwc3RlcD00IGlwX3JhdGlvPTEuNDAgYXE9MToxLjAwAIAAAADpZYiEABT//vfHT8Cm6twiy51FPSEwitj6a2LON8rOxzk7PioKqQ7oiIpa6ndizzb0wf16MM/jBDOHZ/PPw9qVRRA0qZ/O8o5f1SGfAKmOG26Um7qQWy9BWXwkVuukX1Se9HVv/oNQ4GWWeKLfUFAq7Q05adSSF2GsGrpObHxx8jvyyAfu6V5u9U34zGNi8RXijM/rmKS+2HoZy6QXpfk7K7szixzq6EgyjJX/YOoijiUmOn5yJ6e1uEDGFQQeloAPpDTvsQ5J2iEQCRMPEKc7Ct3SCqvFYY06vOg2MPwZgzXI/9GQxe1lNVEAAABAQZokbEFP/taMucXDCghxkmtfiGTN2nWzwQ/aDQtj9R5tBWkyJAkoLYIO/9aEmg2pTBsdaQ4rmaNOaYDv0CerKgAAACJBnkJ4gj8AqSsSkpgRdSuw4SV16y4CpsitbuondTGIF7T5AAAAFgGeYXRBDwCGbPGqDHwDGpGDg1cL50gAAAAJAZ5jakEPAC0hAAAAEkGaaEmoQWiZTAgp//7WjLAQEQAAAAtBnoZFESwR/wAYEQAAAAkBnqV0QQ8ALSEAAAAJAZ6nakEPAC0gAAAAEkGarEmoQWyZTAgp//7WjLAQEAAAAAtBnspFFSwR/wAYEQAAAAkBnul0QQ8ALSAAAAAJAZ7rakEPAC0gAAAAEkGa8EmoQWyZTAgp//7WjLAQEQAAAAtBnw5FFSwR/wAYEQAAAAkBny10QQ8ALSEAAAAJAZ8vakEPAC0gAAAAEkGbNEmoQWyZTAgp//7WjLAQEAAAAAtBn1JFFSwR/wAYEQAAAAkBn3F0QQ8ALSAAAAAJAZ9zakEPAC0gAAAAEkGbeEmoQWyZTAgp//7WjLAQEQAAAAtBn5ZFFSwR/wAYEAAAAAkBn7V0QQ8ALSEAAAAJAZ+3akEPAC0hAAAAEkGbvEmoQWyZTAgp//7WjLAQEAAAAAtBn9pFFSwR/wAYEQAAAAkBn/l0QQ8ALSAAAAAJAZ/7akEPAC0hAAAAEkGb4EmoQWyZTAgp//7WjLAQEQAAAAtBnh5FFSwR/wAYEAAAAAkBnj10QQ8ALSAAAAAJAZ4/akEPAC0hAAAAEkGaJEmoQWyZTAgp//7WjLAQEAAAAAtBnkJFFSwR/wAYEQAAAAkBnmF0QQ8ALSAAAAAJAZ5jakEPAC0hAAAAEkGaaEmoQWyZTAgp//7WjLAQEQAAAAtBnoZFFSwR/wAYEQAAAAkBnqV0QQ8ALSEAAAAJAZ6nakEPAC0gAAAAEkGarEmoQWyZTAgn//61KoA64AAAAAtBnspFFSwR/wAYEQAAAAkBnul0QQ8ALSAAAAAJAZ7rakEPAC0gAAAAEkGa8EmoQWyZTAgl//61KoA64QAAAAtBnw5FFSwR/wAYEQAAAAkBny10QQ8ALSEAAAAJAZ8vakEPAC0gAAAAGEGbMkmoQWyZTBRMEP/+qj89UCOUUpQD2gAAAAkBn1FqQQ8ALSEAAAV1bW9vdgAAAGxtdmhkAAAAAAAAAAAAAAAAAAAD6AAAMc4AAQAAAQAAAAAAAAAAAAAAAAEAAAAAAAAAAAAAAAAAAAABAAAAAAAAAAAAAAAAAABAAAAAAAAAAAAAAAAAAAAAAAAAAAAAAAAAAAAAAAAAAgAABJ90cmFrAAAAXHRraGQAAAADAAAAAAAAAAAAAAABAAAAAAAAMc4AAAAAAAAAAAAAAAAAAAAAAAEAAAAAAAAAAAAAAAAAAAABAAAAAAAAAAAAAAAAAABAAAAAAHAAAABwAAAAAAAkZWR0cwAAABxlbHN0AAAAAAAAAAEAADHOAAAgAAABAAAAAAQXbWRpYQAAACBtZGhkAAAAAAAAAAAAAAAAAABAAAADMABVxAAAAAAALWhkbHIAAAAAAAAAAHZpZGUAAAAAAAAAAAAAAABWaWRlb0hhbmRsZXIAAAADwm1pbmYAAAAUdm1oZAAAAAEAAAAAAAAAAAAAACRkaW5mAAAAHGRyZWYAAAAAAAAAAQAAAAx1cmwgAAAAAQAAA4JzdGJsAAAAlnN0c2QAAAAAAAAAAQAAAIZhdmMxAAAAAAAAAAEAAAAAAAAAAAAAAAAAAAAAAHAAcABIAAAASAAAAAAAAAABAAAAAAAAAAAAAAAAAAAAAAAAAAAAAAAAAAAAAAAAAAAAGP//AAAAMGF2Y0MBZAAK/+EAF2dkAAqs2Uc+hAAAAwAEAAADACA8SJZYAQAGaOvjyyLAAAAAGHN0dHMAAAAAAAAAAQAAADMAABAAAAAAFHN0c3MAAAAAAAAAAQAAAAEAAAGoY3R0cwAAAAAAAAAzAAAAAQAAIAAAAAABAABQAAAAAAEAACAAAAAAAQAAAAAAAAABAAAQAAAAAAEAAFAAAAAAAQAAIAAAAAABAAAAAAAAAAEAABAAAAAAAQAAUAAAAAABAAAgAAAAAAEAAAAAAAAAAQAAEAAAAAABAABQAAAAAAEAACAAAAAAAQAAAAAAAAABAAAQAAAAAAEAAFAAAAAAAQAAIAAAAAABAAAAAAAAAAEAABAAAAAAAQAAUAAAAAABAAAgAAAAAAEAAAAAAAAAAQAAEAAAAAABAABQAAAAAAEAACAAAAAAAQAAAAAAAAABAAAQAAAAAAEAAFAAAAAAAQAAIAAAAAABAAAAAAAAAAEAABAAAAAAAQAAUAAAAAABAAAgAAAAAAEAAAAAAAAAAQAAEAAAAAABAABQAAAAAAEAACAAAAAAAQAAAAAAAAABAAAQAAAAAAEAAFAAAAAAAQAAIAAAAAABAAAAAAAAAAEAABAAAAAAAQAAUAAAAAABAAAgAAAAAAEAAAAAAAAAAQAAEAAAAAABAAAwAAAAAAEAABAAAAAAHHN0c2MAAAAAAAAAAQAAAAEAAAAzAAAAAQAAAOBzdHN6AAAAAAAAAAAAAAAzAAADngAAAEQAAAAmAAAAGgAAAA0AAAAWAAAADwAAAA0AAAANAAAAFgAAAA8AAAANAAAADQAAABYAAAAPAAAADQAAAA0AAAAWAAAADwAAAA0AAAANAAAAFgAAAA8AAAANAAAADQAAABYAAAAPAAAADQAAAA0AAAAWAAAADwAAAA0AAAANAAAAFgAAAA8AAAANAAAADQAAABYAAAAPAAAADQAAAA0AAAAWAAAADwAAAA0AAAANAAAAFgAAAA8AAAANAAAADQAAABwAAAANAAAAFHN0Y28AAAAAAAAAAQAAADAAAABidWR0YQAAAFptZXRhAAAAAAAAACFoZGxyAAAAAAAAAABtZGlyYXBwbAAAAAAAAAAAAAAAAC1pbHN0AAAAJal0b28AAAAdZGF0YQAAAAEAAAAATGF2ZjU4LjI5LjEwMA==\" type=\"video/mp4\" />\n",
              "             </video>"
            ]
          },
          "metadata": {}
        },
        {
          "output_type": "stream",
          "name": "stdout",
          "text": [
            "\n",
            "SHOWING VIDEO cnn_videos/rl-video-episode-5.mp4\n"
          ]
        },
        {
          "output_type": "display_data",
          "data": {
            "text/plain": [
              "<IPython.core.display.HTML object>"
            ],
            "text/html": [
              "<video alt=\"test\" autoplay\n",
              "                loop controls style=\"height: 400px;\">\n",
              "                <source src=\"data:video/mp4;base64,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\" type=\"video/mp4\" />\n",
              "             </video>"
            ]
          },
          "metadata": {}
        },
        {
          "output_type": "stream",
          "name": "stdout",
          "text": [
            "\n",
            "SHOWING VIDEO cnn_videos/rl-video-episode-6.mp4\n"
          ]
        },
        {
          "output_type": "display_data",
          "data": {
            "text/plain": [
              "<IPython.core.display.HTML object>"
            ],
            "text/html": [
              "<video alt=\"test\" autoplay\n",
              "                loop controls style=\"height: 400px;\">\n",
              "                <source src=\"data:video/mp4;base64,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\" type=\"video/mp4\" />\n",
              "             </video>"
            ]
          },
          "metadata": {}
        },
        {
          "output_type": "stream",
          "name": "stdout",
          "text": [
            "\n",
            "SHOWING VIDEO cnn_videos/rl-video-episode-7.mp4\n"
          ]
        },
        {
          "output_type": "display_data",
          "data": {
            "text/plain": [
              "<IPython.core.display.HTML object>"
            ],
            "text/html": [
              "<video alt=\"test\" autoplay\n",
              "                loop controls style=\"height: 400px;\">\n",
              "                <source src=\"data:video/mp4;base64,AAAAIGZ0eXBpc29tAAACAGlzb21pc28yYXZjMW1wNDEAAAAIZnJlZQAABp1tZGF0AAACrQYF//+p3EXpvebZSLeWLNgg2SPu73gyNjQgLSBjb3JlIDE1OSByMjk5MSAxNzcxYjU1IC0gSC4yNjQvTVBFRy00IEFWQyBjb2RlYyAtIENvcHlsZWZ0IDIwMDMtMjAxOSAtIGh0dHA6Ly93d3cudmlkZW9sYW4ub3JnL3gyNjQuaHRtbCAtIG9wdGlvbnM6IGNhYmFjPTEgcmVmPTMgZGVibG9jaz0xOjA6MCBhbmFseXNlPTB4MzoweDExMyBtZT1oZXggc3VibWU9NyBwc3k9MSBwc3lfcmQ9MS4wMDowLjAwIG1peGVkX3JlZj0xIG1lX3JhbmdlPTE2IGNocm9tYV9tZT0xIHRyZWxsaXM9MSA4eDhkY3Q9MSBjcW09MCBkZWFkem9uZT0yMSwxMSBmYXN0X3Bza2lwPTEgY2hyb21hX3FwX29mZnNldD0tMiB0aHJlYWRzPTMgbG9va2FoZWFkX3RocmVhZHM9MSBzbGljZWRfdGhyZWFkcz0wIG5yPTAgZGVjaW1hdGU9MSBpbnRlcmxhY2VkPTAgYmx1cmF5X2NvbXBhdD0wIGNvbnN0cmFpbmVkX2ludHJhPTAgYmZyYW1lcz0zIGJfcHlyYW1pZD0yIGJfYWRhcHQ9MSBiX2JpYXM9MCBkaXJlY3Q9MSB3ZWlnaHRiPTEgb3Blbl9nb3A9MCB3ZWlnaHRwPTIga2V5aW50PTI1MCBrZXlpbnRfbWluPTQgc2NlbmVjdXQ9NDAgaW50cmFfcmVmcmVzaD0wIHJjX2xvb2thaGVhZD00MCByYz1jcmYgbWJ0cmVlPTEgY3JmPTIzLjAgcWNvbXA9MC42MCBxcG1pbj0wIHFwbWF4PTY5IHFwc3RlcD00IGlwX3JhdGlvPTEuNDAgYXE9MToxLjAwAIAAAADQZYiEABT//vfHT8Cm6twiy5sNImvKCEHsYvsvX/7dqUMdwkQx77glVVouE4P/GJScpLDi9JVr3jXVUumHilisFcxQolMyxYMk++WyjvijFxIS7n11+dvnLQGZ0nPk+KEBfLCSApVHAjXfrqrSpolrw5Ou6YQzxSehVK1IlDXv9muE1JmUAAxn9c2h2RGvCR1T+w3Exhcprvh9BO9Jv9Sgik233IYus9jrM40i6JBnosmkwSHktqO0HukbDnX0U1GJxA0aSrUu0yk8izkAR8D0gQAAAAxBmiRsQU/+1oywEBAAAAAJQZ5CeII/ABgRAAAACQGeYXRBDwAtIAAAAAkBnmNqQQ8ALSEAAAASQZpoSahBaJlMCCn//taMsBARAAAAC0GehkURLBH/ABgRAAAACQGepXRBDwAtIQAAAAkBnqdqQQ8ALSAAAAASQZqsSahBbJlMCCn//taMsBAQAAAAC0GeykUVLBH/ABgRAAAACQGe6XRBDwAtIAAAAAkBnutqQQ8ALSAAAAASQZrwSahBbJlMCCn//taMsBARAAAAC0GfDkUVLBH/ABgRAAAACQGfLXRBDwAtIQAAAAkBny9qQQ8ALSAAAAASQZs0SahBbJlMCCn//taMsBAQAAAAC0GfUkUVLBH/ABgRAAAACQGfcXRBDwAtIAAAAAkBn3NqQQ8ALSAAAAASQZt4SahBbJlMCCn//taMsBARAAAAC0GflkUVLBH/ABgQAAAACQGftXRBDwAtIQAAAAkBn7dqQQ8ALSEAAAASQZu8SahBbJlMCCn//taMsBAQAAAAC0Gf2kUVLBH/ABgRAAAACQGf+XRBDwAtIAAAAAkBn/tqQQ8ALSEAAAASQZvgSahBbJlMCCn//taMsBARAAAAC0GeHkUVLBH/ABgQAAAACQGePXRBDwAtIAAAAAkBnj9qQQ8ALSEAAAASQZokSahBbJlMCCn//taMsBAQAAAAC0GeQkUVLBH/ABgRAAAACQGeYXRBDwAtIAAAAAkBnmNqQQ8ALSEAAAASQZpoSahBbJlMCCn//taMsBARAAAAC0GehkUVLBH/ABgRAAAACQGepXRBDwAtIQAAAAkBnqdqQQ8ALSAAAAASQZqsSahBbJlMCCf//rUqgDrgAAAAC0GeykUVLBH/ABgRAAAACQGe6XRBDwAtIAAAAAkBnutqQQ8ALSAAAAASQZrwSahBbJlMCCX//rUqgDrhAAAAC0GfDkUVLBH/ABgRAAAACQGfLXRBDwAtIQAAAAkBny9qQQ8ALSAAAAATQZsySahBbJlMFEwQ//6qVQB1wAAAAAkBn1FqQQ8ALSEAAAV1bW9vdgAAAGxtdmhkAAAAAAAAAAAAAAAAAAAD6AAAMc4AAQAAAQAAAAAAAAAAAAAAAAEAAAAAAAAAAAAAAAAAAAABAAAAAAAAAAAAAAAAAABAAAAAAAAAAAAAAAAAAAAAAAAAAAAAAAAAAAAAAAAAAgAABJ90cmFrAAAAXHRraGQAAAADAAAAAAAAAAAAAAABAAAAAAAAMc4AAAAAAAAAAAAAAAAAAAAAAAEAAAAAAAAAAAAAAAAAAAABAAAAAAAAAAAAAAAAAABAAAAAAHAAAABwAAAAAAAkZWR0cwAAABxlbHN0AAAAAAAAAAEAADHOAAAgAAABAAAAAAQXbWRpYQAAACBtZGhkAAAAAAAAAAAAAAAAAABAAAADMABVxAAAAAAALWhkbHIAAAAAAAAAAHZpZGUAAAAAAAAAAAAAAABWaWRlb0hhbmRsZXIAAAADwm1pbmYAAAAUdm1oZAAAAAEAAAAAAAAAAAAAACRkaW5mAAAAHGRyZWYAAAAAAAAAAQAAAAx1cmwgAAAAAQAAA4JzdGJsAAAAlnN0c2QAAAAAAAAAAQAAAIZhdmMxAAAAAAAAAAEAAAAAAAAAAAAAAAAAAAAAAHAAcABIAAAASAAAAAAAAAABAAAAAAAAAAAAAAAAAAAAAAAAAAAAAAAAAAAAAAAAAAAAGP//AAAAMGF2Y0MBZAAK/+EAF2dkAAqs2Uc+hAAAAwAEAAADACA8SJZYAQAGaOvjyyLAAAAAGHN0dHMAAAAAAAAAAQAAADMAABAAAAAAFHN0c3MAAAAAAAAAAQAAAAEAAAGoY3R0cwAAAAAAAAAzAAAAAQAAIAAAAAABAABQAAAAAAEAACAAAAAAAQAAAAAAAAABAAAQAAAAAAEAAFAAAAAAAQAAIAAAAAABAAAAAAAAAAEAABAAAAAAAQAAUAAAAAABAAAgAAAAAAEAAAAAAAAAAQAAEAAAAAABAABQAAAAAAEAACAAAAAAAQAAAAAAAAABAAAQAAAAAAEAAFAAAAAAAQAAIAAAAAABAAAAAAAAAAEAABAAAAAAAQAAUAAAAAABAAAgAAAAAAEAAAAAAAAAAQAAEAAAAAABAABQAAAAAAEAACAAAAAAAQAAAAAAAAABAAAQAAAAAAEAAFAAAAAAAQAAIAAAAAABAAAAAAAAAAEAABAAAAAAAQAAUAAAAAABAAAgAAAAAAEAAAAAAAAAAQAAEAAAAAABAABQAAAAAAEAACAAAAAAAQAAAAAAAAABAAAQAAAAAAEAAFAAAAAAAQAAIAAAAAABAAAAAAAAAAEAABAAAAAAAQAAUAAAAAABAAAgAAAAAAEAAAAAAAAAAQAAEAAAAAABAAAwAAAAAAEAABAAAAAAHHN0c2MAAAAAAAAAAQAAAAEAAAAzAAAAAQAAAOBzdHN6AAAAAAAAAAAAAAAzAAADhQAAABAAAAANAAAADQAAAA0AAAAWAAAADwAAAA0AAAANAAAAFgAAAA8AAAANAAAADQAAABYAAAAPAAAADQAAAA0AAAAWAAAADwAAAA0AAAANAAAAFgAAAA8AAAANAAAADQAAABYAAAAPAAAADQAAAA0AAAAWAAAADwAAAA0AAAANAAAAFgAAAA8AAAANAAAADQAAABYAAAAPAAAADQAAAA0AAAAWAAAADwAAAA0AAAANAAAAFgAAAA8AAAANAAAADQAAABcAAAANAAAAFHN0Y28AAAAAAAAAAQAAADAAAABidWR0YQAAAFptZXRhAAAAAAAAACFoZGxyAAAAAAAAAABtZGlyYXBwbAAAAAAAAAAAAAAAAC1pbHN0AAAAJal0b28AAAAdZGF0YQAAAAEAAAAATGF2ZjU4LjI5LjEwMA==\" type=\"video/mp4\" />\n",
              "             </video>"
            ]
          },
          "metadata": {}
        },
        {
          "output_type": "stream",
          "name": "stdout",
          "text": [
            "\n",
            "SHOWING VIDEO cnn_videos/rl-video-episode-8.mp4\n"
          ]
        },
        {
          "output_type": "display_data",
          "data": {
            "text/plain": [
              "<IPython.core.display.HTML object>"
            ],
            "text/html": [
              "<video alt=\"test\" autoplay\n",
              "                loop controls style=\"height: 400px;\">\n",
              "                <source src=\"data:video/mp4;base64,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\" type=\"video/mp4\" />\n",
              "             </video>"
            ]
          },
          "metadata": {}
        },
        {
          "output_type": "stream",
          "name": "stdout",
          "text": [
            "\n",
            "SHOWING VIDEO cnn_videos/rl-video-episode-9.mp4\n"
          ]
        },
        {
          "output_type": "display_data",
          "data": {
            "text/plain": [
              "<IPython.core.display.HTML object>"
            ],
            "text/html": [
              "<video alt=\"test\" autoplay\n",
              "                loop controls style=\"height: 400px;\">\n",
              "                <source src=\"data:video/mp4;base64,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\" type=\"video/mp4\" />\n",
              "             </video>"
            ]
          },
          "metadata": {}
        }
      ]
    },
    {
      "cell_type": "code",
      "source": [
        "import glob\n",
        "import io\n",
        "import base64\n",
        "from IPython.display import HTML\n",
        "from IPython import display as ipythondisplay\n",
        "\n",
        "def show_videos(folder=\"video\"):\n",
        "  # A glob modul glob.glob() függvényével keresünk minden .mp4 kiterjesztésű fájlt a megadott mappában.\n",
        "  # Az eredmény egy lista lesz az összes talált .mp4 fájl elérési útjával.\n",
        "  mp4list = glob.glob(folder + '/*.mp4')\n",
        "\n",
        "  # A talált videófájlok listáját rendezzük, hogy biztosítsuk a megjelenítés sorrendjét.\n",
        "  mp4list.sort()\n",
        "\n",
        "\n",
        "  for mp4 in mp4list:\n",
        "    print(f\"\\nSHOWING VIDEO {mp4}\")\n",
        "\n",
        "    # Megnyitjuk a videófájlt olvasásra (bináris módban), és beolvassuk a tartalmát.\n",
        "    video = io.open(mp4, 'r+b').read()\n",
        "\n",
        "    # A videófájl tartalmát Base64 kódolással kódoljuk, hogy beágyazható legyen egy HTML dokumentumba.\n",
        "    encoded = base64.b64encode(video)\n",
        "\n",
        "    # Videók megjelenítése a colab HTML írási lehetőségeit felhasználva.\n",
        "    ipythondisplay.display(HTML(data='''<video alt=\"test\" autoplay\n",
        "                loop controls style=\"height: 400px;\">\n",
        "                <source src=\"data:video/mp4;base64,{0}\" type=\"video/mp4\" />\n",
        "             </video>'''.format(encoded.decode('ascii'))))\n"
      ],
      "metadata": {
        "id": "50q40X9Ebsi6"
      },
      "execution_count": 20,
      "outputs": []
    },
    {
      "cell_type": "code",
      "source": [
        "import gym\n",
        "from stable_baselines3 import PPO\n",
        "from stable_baselines3.common.vec_env import DummyVecEnv\n",
        "from stable_baselines3.common.evaluation import evaluate_policy\n",
        "from stable_baselines3.common.sb2_compat.rmsprop_tf_like import RMSpropTFLike\n",
        "from sokoban_gym.envs.sokoban_env import SokobanEnv\n",
        "import gymnasium as gym\n",
        "from utils.eval_utils import evaluate, create_videos\n",
        "\n",
        "# Környezet létrehozása\n",
        "env = gym.make('Sokoban-v1', size=[(5,5),(6,6),(7,7)], padded_size=(7, 7), num_boxes=[1], render_mode='rgb_array')\n",
        "# A megfigyelések kiterjesztése a tábla alapján számolt új jellemzők segítségével.\n",
        "env = ImageObservationWrapper(env, scale=8)\n",
        "# Modell létrehozása\n",
        "# env = CustomRewardWrapper(env)\n",
        "# Wrap the environment in a DummyVecEnv to make it compatible with Stable Baselines 3\n",
        "model = PPO('MlpPolicy', env, policy_kwargs=dict(optimizer_class=RMSpropTFLike, optimizer_kwargs=dict(eps=1e-7)), verbose=4, seed=42)\n",
        "# Tanulás\n",
        "model.learn(total_timesteps=25000)\n",
        "# Model kimentése\n",
        "model.save(\"models/Sokoban-v1_5_8_1box_PPO_CNN\")\n",
        "# Kiértékelés 100 véletlen környezetben\n",
        "mean_reward, std_reward = evaluate_policy(model, env, n_eval_episodes=100)\n",
        "print(\"Mean reward:\", mean_reward, \"±\", std_reward)\n",
        "# Videók készítése\n",
        "create_videos(env, model, folder=\"ppo_videos\", ep_num=10)\n",
        "show_videos(\"ppo_videos\")"
      ],
      "metadata": {
        "colab": {
          "base_uri": "https://localhost:8080/",
          "height": 1000
        },
        "id": "tTVGqFSypJIG",
        "outputId": "1fa1836f-2b6a-475d-b3b9-7c523ea75b04"
      },
      "execution_count": 42,
      "outputs": [
        {
          "output_type": "stream",
          "name": "stdout",
          "text": [
            "Using cuda device\n",
            "Wrapping the env with a `Monitor` wrapper\n",
            "Wrapping the env in a DummyVecEnv.\n",
            "Wrapping the env in a VecTransposeImage.\n",
            "---------------------------------\n",
            "| rollout/           |          |\n",
            "|    ep_len_mean     | 34.4     |\n",
            "|    ep_rew_mean     | 0.441    |\n",
            "| time/              |          |\n",
            "|    fps             | 405      |\n",
            "|    iterations      | 1        |\n",
            "|    time_elapsed    | 5        |\n",
            "|    total_timesteps | 2048     |\n",
            "---------------------------------\n",
            "-------------------------------------------\n",
            "| rollout/                |               |\n",
            "|    ep_len_mean          | 33            |\n",
            "|    ep_rew_mean          | 0.48          |\n",
            "| time/                   |               |\n",
            "|    fps                  | 369           |\n",
            "|    iterations           | 2             |\n",
            "|    time_elapsed         | 11            |\n",
            "|    total_timesteps      | 4096          |\n",
            "| train/                  |               |\n",
            "|    approx_kl            | 4.1498977e-05 |\n",
            "|    clip_fraction        | 0             |\n",
            "|    clip_range           | 0.2           |\n",
            "|    entropy_loss         | -1.61         |\n",
            "|    explained_variance   | -0.116        |\n",
            "|    learning_rate        | 0.0003        |\n",
            "|    loss                 | 0.0294        |\n",
            "|    n_updates            | 10            |\n",
            "|    policy_gradient_loss | -0.000241     |\n",
            "|    value_loss           | 0.0581        |\n",
            "-------------------------------------------\n",
            "------------------------------------------\n",
            "| rollout/                |              |\n",
            "|    ep_len_mean          | 33.9         |\n",
            "|    ep_rew_mean          | 0.45         |\n",
            "| time/                   |              |\n",
            "|    fps                  | 347          |\n",
            "|    iterations           | 3            |\n",
            "|    time_elapsed         | 17           |\n",
            "|    total_timesteps      | 6144         |\n",
            "| train/                  |              |\n",
            "|    approx_kl            | 0.0004532977 |\n",
            "|    clip_fraction        | 0            |\n",
            "|    clip_range           | 0.2          |\n",
            "|    entropy_loss         | -1.61        |\n",
            "|    explained_variance   | -0.264       |\n",
            "|    learning_rate        | 0.0003       |\n",
            "|    loss                 | 0.0102       |\n",
            "|    n_updates            | 20           |\n",
            "|    policy_gradient_loss | -0.000658    |\n",
            "|    value_loss           | 0.0492       |\n",
            "------------------------------------------\n",
            "------------------------------------------\n",
            "| rollout/                |              |\n",
            "|    ep_len_mean          | 35.1         |\n",
            "|    ep_rew_mean          | 0.4          |\n",
            "| time/                   |              |\n",
            "|    fps                  | 344          |\n",
            "|    iterations           | 4            |\n",
            "|    time_elapsed         | 23           |\n",
            "|    total_timesteps      | 8192         |\n",
            "| train/                  |              |\n",
            "|    approx_kl            | 0.0039376346 |\n",
            "|    clip_fraction        | 0.00381      |\n",
            "|    clip_range           | 0.2          |\n",
            "|    entropy_loss         | -1.61        |\n",
            "|    explained_variance   | -0.131       |\n",
            "|    learning_rate        | 0.0003       |\n",
            "|    loss                 | 0.0146       |\n",
            "|    n_updates            | 30           |\n",
            "|    policy_gradient_loss | -0.00257     |\n",
            "|    value_loss           | 0.0299       |\n",
            "------------------------------------------\n",
            "-----------------------------------------\n",
            "| rollout/                |             |\n",
            "|    ep_len_mean          | 33.5        |\n",
            "|    ep_rew_mean          | 0.41        |\n",
            "| time/                   |             |\n",
            "|    fps                  | 337         |\n",
            "|    iterations           | 5           |\n",
            "|    time_elapsed         | 30          |\n",
            "|    total_timesteps      | 10240       |\n",
            "| train/                  |             |\n",
            "|    approx_kl            | 0.009295074 |\n",
            "|    clip_fraction        | 0.0833      |\n",
            "|    clip_range           | 0.2         |\n",
            "|    entropy_loss         | -1.6        |\n",
            "|    explained_variance   | 0.0981      |\n",
            "|    learning_rate        | 0.0003      |\n",
            "|    loss                 | -0.0172     |\n",
            "|    n_updates            | 40          |\n",
            "|    policy_gradient_loss | -0.011      |\n",
            "|    value_loss           | 0.0256      |\n",
            "-----------------------------------------\n",
            "-----------------------------------------\n",
            "| rollout/                |             |\n",
            "|    ep_len_mean          | 35.7        |\n",
            "|    ep_rew_mean          | 0.41        |\n",
            "| time/                   |             |\n",
            "|    fps                  | 336         |\n",
            "|    iterations           | 6           |\n",
            "|    time_elapsed         | 36          |\n",
            "|    total_timesteps      | 12288       |\n",
            "| train/                  |             |\n",
            "|    approx_kl            | 0.011200458 |\n",
            "|    clip_fraction        | 0.136       |\n",
            "|    clip_range           | 0.2         |\n",
            "|    entropy_loss         | -1.59       |\n",
            "|    explained_variance   | 0.441       |\n",
            "|    learning_rate        | 0.0003      |\n",
            "|    loss                 | -0.0199     |\n",
            "|    n_updates            | 50          |\n",
            "|    policy_gradient_loss | -0.0116     |\n",
            "|    value_loss           | 0.0135      |\n",
            "-----------------------------------------\n",
            "-----------------------------------------\n",
            "| rollout/                |             |\n",
            "|    ep_len_mean          | 37.8        |\n",
            "|    ep_rew_mean          | 0.38        |\n",
            "| time/                   |             |\n",
            "|    fps                  | 333         |\n",
            "|    iterations           | 7           |\n",
            "|    time_elapsed         | 42          |\n",
            "|    total_timesteps      | 14336       |\n",
            "| train/                  |             |\n",
            "|    approx_kl            | 0.012144971 |\n",
            "|    clip_fraction        | 0.12        |\n",
            "|    clip_range           | 0.2         |\n",
            "|    entropy_loss         | -1.58       |\n",
            "|    explained_variance   | 0.64        |\n",
            "|    learning_rate        | 0.0003      |\n",
            "|    loss                 | -0.0368     |\n",
            "|    n_updates            | 60          |\n",
            "|    policy_gradient_loss | -0.0157     |\n",
            "|    value_loss           | 0.0128      |\n",
            "-----------------------------------------\n",
            "-----------------------------------------\n",
            "| rollout/                |             |\n",
            "|    ep_len_mean          | 34.5        |\n",
            "|    ep_rew_mean          | 0.43        |\n",
            "| time/                   |             |\n",
            "|    fps                  | 330         |\n",
            "|    iterations           | 8           |\n",
            "|    time_elapsed         | 49          |\n",
            "|    total_timesteps      | 16384       |\n",
            "| train/                  |             |\n",
            "|    approx_kl            | 0.013775926 |\n",
            "|    clip_fraction        | 0.146       |\n",
            "|    clip_range           | 0.2         |\n",
            "|    entropy_loss         | -1.57       |\n",
            "|    explained_variance   | 0.342       |\n",
            "|    learning_rate        | 0.0003      |\n",
            "|    loss                 | -0.0134     |\n",
            "|    n_updates            | 70          |\n",
            "|    policy_gradient_loss | -0.0155     |\n",
            "|    value_loss           | 0.0155      |\n",
            "-----------------------------------------\n",
            "-----------------------------------------\n",
            "| rollout/                |             |\n",
            "|    ep_len_mean          | 35          |\n",
            "|    ep_rew_mean          | 0.38        |\n",
            "| time/                   |             |\n",
            "|    fps                  | 330         |\n",
            "|    iterations           | 9           |\n",
            "|    time_elapsed         | 55          |\n",
            "|    total_timesteps      | 18432       |\n",
            "| train/                  |             |\n",
            "|    approx_kl            | 0.013467094 |\n",
            "|    clip_fraction        | 0.16        |\n",
            "|    clip_range           | 0.2         |\n",
            "|    entropy_loss         | -1.56       |\n",
            "|    explained_variance   | 0.369       |\n",
            "|    learning_rate        | 0.0003      |\n",
            "|    loss                 | -0.0436     |\n",
            "|    n_updates            | 80          |\n",
            "|    policy_gradient_loss | -0.018      |\n",
            "|    value_loss           | 0.0145      |\n",
            "-----------------------------------------\n",
            "------------------------------------------\n",
            "| rollout/                |              |\n",
            "|    ep_len_mean          | 35.6         |\n",
            "|    ep_rew_mean          | 0.36         |\n",
            "| time/                   |              |\n",
            "|    fps                  | 327          |\n",
            "|    iterations           | 10           |\n",
            "|    time_elapsed         | 62           |\n",
            "|    total_timesteps      | 20480        |\n",
            "| train/                  |              |\n",
            "|    approx_kl            | 0.0133741675 |\n",
            "|    clip_fraction        | 0.171        |\n",
            "|    clip_range           | 0.2          |\n",
            "|    entropy_loss         | -1.55        |\n",
            "|    explained_variance   | 0.121        |\n",
            "|    learning_rate        | 0.0003       |\n",
            "|    loss                 | -0.0204      |\n",
            "|    n_updates            | 90           |\n",
            "|    policy_gradient_loss | -0.0153      |\n",
            "|    value_loss           | 0.0158       |\n",
            "------------------------------------------\n",
            "-----------------------------------------\n",
            "| rollout/                |             |\n",
            "|    ep_len_mean          | 33          |\n",
            "|    ep_rew_mean          | 0.41        |\n",
            "| time/                   |             |\n",
            "|    fps                  | 328         |\n",
            "|    iterations           | 11          |\n",
            "|    time_elapsed         | 68          |\n",
            "|    total_timesteps      | 22528       |\n",
            "| train/                  |             |\n",
            "|    approx_kl            | 0.016055532 |\n",
            "|    clip_fraction        | 0.219       |\n",
            "|    clip_range           | 0.2         |\n",
            "|    entropy_loss         | -1.54       |\n",
            "|    explained_variance   | 0.286       |\n",
            "|    learning_rate        | 0.0003      |\n",
            "|    loss                 | -0.0133     |\n",
            "|    n_updates            | 100         |\n",
            "|    policy_gradient_loss | -0.0175     |\n",
            "|    value_loss           | 0.0156      |\n",
            "-----------------------------------------\n",
            "------------------------------------------\n",
            "| rollout/                |              |\n",
            "|    ep_len_mean          | 36.9         |\n",
            "|    ep_rew_mean          | 0.33         |\n",
            "| time/                   |              |\n",
            "|    fps                  | 325          |\n",
            "|    iterations           | 12           |\n",
            "|    time_elapsed         | 75           |\n",
            "|    total_timesteps      | 24576        |\n",
            "| train/                  |              |\n",
            "|    approx_kl            | 0.0142817125 |\n",
            "|    clip_fraction        | 0.183        |\n",
            "|    clip_range           | 0.2          |\n",
            "|    entropy_loss         | -1.56        |\n",
            "|    explained_variance   | 0.55         |\n",
            "|    learning_rate        | 0.0003       |\n",
            "|    loss                 | -0.0142      |\n",
            "|    n_updates            | 110          |\n",
            "|    policy_gradient_loss | -0.0202      |\n",
            "|    value_loss           | 0.00827      |\n",
            "------------------------------------------\n",
            "-----------------------------------------\n",
            "| rollout/                |             |\n",
            "|    ep_len_mean          | 38.8        |\n",
            "|    ep_rew_mean          | 0.32        |\n",
            "| time/                   |             |\n",
            "|    fps                  | 326         |\n",
            "|    iterations           | 13          |\n",
            "|    time_elapsed         | 81          |\n",
            "|    total_timesteps      | 26624       |\n",
            "| train/                  |             |\n",
            "|    approx_kl            | 0.013392344 |\n",
            "|    clip_fraction        | 0.182       |\n",
            "|    clip_range           | 0.2         |\n",
            "|    entropy_loss         | -1.56       |\n",
            "|    explained_variance   | 0.151       |\n",
            "|    learning_rate        | 0.0003      |\n",
            "|    loss                 | -0.031      |\n",
            "|    n_updates            | 120         |\n",
            "|    policy_gradient_loss | -0.0173     |\n",
            "|    value_loss           | 0.0119      |\n",
            "-----------------------------------------\n",
            "Mean reward: 0.15 ± 0.3570714214271425\n"
          ]
        },
        {
          "output_type": "stream",
          "name": "stderr",
          "text": [
            "  0%|          | 0/10 [00:00<?, ?it/s]"
          ]
        },
        {
          "output_type": "stream",
          "name": "stdout",
          "text": [
            "Moviepy - Building video /content/ppo_videos/rl-video-episode-0.mp4.\n",
            "Moviepy - Writing video /content/ppo_videos/rl-video-episode-0.mp4\n",
            "\n"
          ]
        },
        {
          "output_type": "stream",
          "name": "stderr",
          "text": [
            "\n",
            "t:   0%|          | 0/51 [00:00<?, ?it/s, now=None]\u001b[A\n",
            " 10%|█         | 1/10 [00:00<00:01,  6.80it/s]"
          ]
        },
        {
          "output_type": "stream",
          "name": "stdout",
          "text": [
            "Moviepy - Done !\n",
            "Moviepy - video ready /content/ppo_videos/rl-video-episode-0.mp4\n"
          ]
        },
        {
          "output_type": "stream",
          "name": "stderr",
          "text": [
            " 10%|█         | 1/10 [00:00<00:01,  6.80it/s]"
          ]
        },
        {
          "output_type": "stream",
          "name": "stdout",
          "text": [
            "Moviepy - Building video /content/ppo_videos/rl-video-episode-1.mp4.\n",
            "Moviepy - Writing video /content/ppo_videos/rl-video-episode-1.mp4\n",
            "\n"
          ]
        },
        {
          "output_type": "stream",
          "name": "stderr",
          "text": [
            "\n",
            "t:   0%|          | 0/51 [00:00<?, ?it/s, now=None]\u001b[A\n",
            " 20%|██        | 2/10 [00:00<00:01,  6.15it/s]"
          ]
        },
        {
          "output_type": "stream",
          "name": "stdout",
          "text": [
            "Moviepy - Done !\n",
            "Moviepy - video ready /content/ppo_videos/rl-video-episode-1.mp4\n"
          ]
        },
        {
          "output_type": "stream",
          "name": "stderr",
          "text": [
            " 20%|██        | 2/10 [00:00<00:01,  6.15it/s]"
          ]
        },
        {
          "output_type": "stream",
          "name": "stdout",
          "text": [
            "Moviepy - Building video /content/ppo_videos/rl-video-episode-2.mp4.\n",
            "Moviepy - Writing video /content/ppo_videos/rl-video-episode-2.mp4\n",
            "\n"
          ]
        },
        {
          "output_type": "stream",
          "name": "stderr",
          "text": [
            "\n",
            "t:   0%|          | 0/51 [00:00<?, ?it/s, now=None]\u001b[A\n",
            " 30%|███       | 3/10 [00:00<00:01,  6.29it/s]"
          ]
        },
        {
          "output_type": "stream",
          "name": "stdout",
          "text": [
            "Moviepy - Done !\n",
            "Moviepy - video ready /content/ppo_videos/rl-video-episode-2.mp4\n"
          ]
        },
        {
          "output_type": "stream",
          "name": "stderr",
          "text": [
            " 30%|███       | 3/10 [00:00<00:01,  6.29it/s]"
          ]
        },
        {
          "output_type": "stream",
          "name": "stdout",
          "text": [
            "Moviepy - Building video /content/ppo_videos/rl-video-episode-3.mp4.\n",
            "Moviepy - Writing video /content/ppo_videos/rl-video-episode-3.mp4\n",
            "\n"
          ]
        },
        {
          "output_type": "stream",
          "name": "stderr",
          "text": [
            "\n",
            "t:   0%|          | 0/51 [00:00<?, ?it/s, now=None]\u001b[A\n",
            " 40%|████      | 4/10 [00:00<00:01,  5.85it/s]"
          ]
        },
        {
          "output_type": "stream",
          "name": "stdout",
          "text": [
            "Moviepy - Done !\n",
            "Moviepy - video ready /content/ppo_videos/rl-video-episode-3.mp4\n"
          ]
        },
        {
          "output_type": "stream",
          "name": "stderr",
          "text": [
            " 40%|████      | 4/10 [00:00<00:01,  5.85it/s]"
          ]
        },
        {
          "output_type": "stream",
          "name": "stdout",
          "text": [
            "Moviepy - Building video /content/ppo_videos/rl-video-episode-4.mp4.\n",
            "Moviepy - Writing video /content/ppo_videos/rl-video-episode-4.mp4\n",
            "\n"
          ]
        },
        {
          "output_type": "stream",
          "name": "stderr",
          "text": [
            "\n",
            "t:   0%|          | 0/51 [00:00<?, ?it/s, now=None]\u001b[A\n",
            " 50%|█████     | 5/10 [00:00<00:00,  5.82it/s]"
          ]
        },
        {
          "output_type": "stream",
          "name": "stdout",
          "text": [
            "Moviepy - Done !\n",
            "Moviepy - video ready /content/ppo_videos/rl-video-episode-4.mp4\n"
          ]
        },
        {
          "output_type": "stream",
          "name": "stderr",
          "text": [
            " 50%|█████     | 5/10 [00:00<00:00,  5.82it/s]"
          ]
        },
        {
          "output_type": "stream",
          "name": "stdout",
          "text": [
            "Moviepy - Building video /content/ppo_videos/rl-video-episode-5.mp4.\n",
            "Moviepy - Writing video /content/ppo_videos/rl-video-episode-5.mp4\n",
            "\n"
          ]
        },
        {
          "output_type": "stream",
          "name": "stderr",
          "text": [
            "\n",
            "t:   0%|          | 0/4 [00:00<?, ?it/s, now=None]\u001b[A\n",
            " 50%|█████     | 5/10 [00:00<00:00,  5.82it/s]"
          ]
        },
        {
          "output_type": "stream",
          "name": "stdout",
          "text": [
            "Moviepy - Done !\n",
            "Moviepy - video ready /content/ppo_videos/rl-video-episode-5.mp4\n"
          ]
        },
        {
          "output_type": "stream",
          "name": "stderr",
          "text": [
            " 50%|█████     | 5/10 [00:01<00:00,  5.82it/s]"
          ]
        },
        {
          "output_type": "stream",
          "name": "stdout",
          "text": [
            "Moviepy - Building video /content/ppo_videos/rl-video-episode-6.mp4.\n",
            "Moviepy - Writing video /content/ppo_videos/rl-video-episode-6.mp4\n",
            "\n"
          ]
        },
        {
          "output_type": "stream",
          "name": "stderr",
          "text": [
            "\n",
            "t:   0%|          | 0/51 [00:00<?, ?it/s, now=None]\u001b[A\n",
            " 70%|███████   | 7/10 [00:01<00:00,  6.96it/s]"
          ]
        },
        {
          "output_type": "stream",
          "name": "stdout",
          "text": [
            "Moviepy - Done !\n",
            "Moviepy - video ready /content/ppo_videos/rl-video-episode-6.mp4\n"
          ]
        },
        {
          "output_type": "stream",
          "name": "stderr",
          "text": [
            " 70%|███████   | 7/10 [00:01<00:00,  6.96it/s]"
          ]
        },
        {
          "output_type": "stream",
          "name": "stdout",
          "text": [
            "Moviepy - Building video /content/ppo_videos/rl-video-episode-7.mp4.\n",
            "Moviepy - Writing video /content/ppo_videos/rl-video-episode-7.mp4\n",
            "\n"
          ]
        },
        {
          "output_type": "stream",
          "name": "stderr",
          "text": [
            "\n",
            "t:   0%|          | 0/2 [00:00<?, ?it/s, now=None]\u001b[A\n",
            " 70%|███████   | 7/10 [00:01<00:00,  6.96it/s]"
          ]
        },
        {
          "output_type": "stream",
          "name": "stdout",
          "text": [
            "Moviepy - Done !\n",
            "Moviepy - video ready /content/ppo_videos/rl-video-episode-7.mp4\n"
          ]
        },
        {
          "output_type": "stream",
          "name": "stderr",
          "text": [
            " 70%|███████   | 7/10 [00:01<00:00,  6.96it/s]"
          ]
        },
        {
          "output_type": "stream",
          "name": "stdout",
          "text": [
            "Moviepy - Building video /content/ppo_videos/rl-video-episode-8.mp4.\n",
            "Moviepy - Writing video /content/ppo_videos/rl-video-episode-8.mp4\n",
            "\n"
          ]
        },
        {
          "output_type": "stream",
          "name": "stderr",
          "text": [
            "\n",
            "t:   0%|          | 0/51 [00:00<?, ?it/s, now=None]\u001b[A\n",
            " 90%|█████████ | 9/10 [00:01<00:00,  7.63it/s]"
          ]
        },
        {
          "output_type": "stream",
          "name": "stdout",
          "text": [
            "Moviepy - Done !\n",
            "Moviepy - video ready /content/ppo_videos/rl-video-episode-8.mp4\n"
          ]
        },
        {
          "output_type": "stream",
          "name": "stderr",
          "text": [
            " 90%|█████████ | 9/10 [00:01<00:00,  7.63it/s]"
          ]
        },
        {
          "output_type": "stream",
          "name": "stdout",
          "text": [
            "Moviepy - Building video /content/ppo_videos/rl-video-episode-9.mp4.\n",
            "Moviepy - Writing video /content/ppo_videos/rl-video-episode-9.mp4\n",
            "\n"
          ]
        },
        {
          "output_type": "stream",
          "name": "stderr",
          "text": [
            "\n",
            "t:   0%|          | 0/51 [00:00<?, ?it/s, now=None]\u001b[A\n",
            "100%|██████████| 10/10 [00:01<00:00,  6.84it/s]"
          ]
        },
        {
          "output_type": "stream",
          "name": "stdout",
          "text": [
            "Moviepy - Done !\n",
            "Moviepy - video ready /content/ppo_videos/rl-video-episode-9.mp4\n",
            "\n",
            "SHOWING VIDEO ppo_videos/agent_video-step-0-to-step-1000.mp4\n"
          ]
        },
        {
          "output_type": "stream",
          "name": "stderr",
          "text": [
            "\n"
          ]
        },
        {
          "output_type": "display_data",
          "data": {
            "text/plain": [
              "<IPython.core.display.HTML object>"
            ],
            "text/html": [
              "<video alt=\"test\" autoplay\n",
              "                loop controls style=\"height: 400px;\">\n",
              "                <source src=\"data:video/mp4;base64,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\" type=\"video/mp4\" />\n",
              "             </video>"
            ]
          },
          "metadata": {}
        },
        {
          "output_type": "stream",
          "name": "stdout",
          "text": [
            "\n",
            "SHOWING VIDEO ppo_videos/rl-video-episode-0.mp4\n"
          ]
        },
        {
          "output_type": "display_data",
          "data": {
            "text/plain": [
              "<IPython.core.display.HTML object>"
            ],
            "text/html": [
              "<video alt=\"test\" autoplay\n",
              "                loop controls style=\"height: 400px;\">\n",
              "                <source src=\"data:video/mp4;base64,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\" type=\"video/mp4\" />\n",
              "             </video>"
            ]
          },
          "metadata": {}
        },
        {
          "output_type": "stream",
          "name": "stdout",
          "text": [
            "\n",
            "SHOWING VIDEO ppo_videos/rl-video-episode-1.mp4\n"
          ]
        },
        {
          "output_type": "display_data",
          "data": {
            "text/plain": [
              "<IPython.core.display.HTML object>"
            ],
            "text/html": [
              "<video alt=\"test\" autoplay\n",
              "                loop controls style=\"height: 400px;\">\n",
              "                <source src=\"data:video/mp4;base64,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\" type=\"video/mp4\" />\n",
              "             </video>"
            ]
          },
          "metadata": {}
        },
        {
          "output_type": "stream",
          "name": "stdout",
          "text": [
            "\n",
            "SHOWING VIDEO ppo_videos/rl-video-episode-2.mp4\n"
          ]
        },
        {
          "output_type": "display_data",
          "data": {
            "text/plain": [
              "<IPython.core.display.HTML object>"
            ],
            "text/html": [
              "<video alt=\"test\" autoplay\n",
              "                loop controls style=\"height: 400px;\">\n",
              "                <source src=\"data:video/mp4;base64,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\" type=\"video/mp4\" />\n",
              "             </video>"
            ]
          },
          "metadata": {}
        },
        {
          "output_type": "stream",
          "name": "stdout",
          "text": [
            "\n",
            "SHOWING VIDEO ppo_videos/rl-video-episode-3.mp4\n"
          ]
        },
        {
          "output_type": "display_data",
          "data": {
            "text/plain": [
              "<IPython.core.display.HTML object>"
            ],
            "text/html": [
              "<video alt=\"test\" autoplay\n",
              "                loop controls style=\"height: 400px;\">\n",
              "                <source src=\"data:video/mp4;base64,AAAAIGZ0eXBpc29tAAACAGlzb21pc28yYXZjMW1wNDEAAAAIZnJlZQAABydtZGF0AAACrQYF//+p3EXpvebZSLeWLNgg2SPu73gyNjQgLSBjb3JlIDE1OSByMjk5MSAxNzcxYjU1IC0gSC4yNjQvTVBFRy00IEFWQyBjb2RlYyAtIENvcHlsZWZ0IDIwMDMtMjAxOSAtIGh0dHA6Ly93d3cudmlkZW9sYW4ub3JnL3gyNjQuaHRtbCAtIG9wdGlvbnM6IGNhYmFjPTEgcmVmPTMgZGVibG9jaz0xOjA6MCBhbmFseXNlPTB4MzoweDExMyBtZT1oZXggc3VibWU9NyBwc3k9MSBwc3lfcmQ9MS4wMDowLjAwIG1peGVkX3JlZj0xIG1lX3JhbmdlPTE2IGNocm9tYV9tZT0xIHRyZWxsaXM9MSA4eDhkY3Q9MSBjcW09MCBkZWFkem9uZT0yMSwxMSBmYXN0X3Bza2lwPTEgY2hyb21hX3FwX29mZnNldD0tMiB0aHJlYWRzPTMgbG9va2FoZWFkX3RocmVhZHM9MSBzbGljZWRfdGhyZWFkcz0wIG5yPTAgZGVjaW1hdGU9MSBpbnRlcmxhY2VkPTAgYmx1cmF5X2NvbXBhdD0wIGNvbnN0cmFpbmVkX2ludHJhPTAgYmZyYW1lcz0zIGJfcHlyYW1pZD0yIGJfYWRhcHQ9MSBiX2JpYXM9MCBkaXJlY3Q9MSB3ZWlnaHRiPTEgb3Blbl9nb3A9MCB3ZWlnaHRwPTIga2V5aW50PTI1MCBrZXlpbnRfbWluPTQgc2NlbmVjdXQ9NDAgaW50cmFfcmVmcmVzaD0wIHJjX2xvb2thaGVhZD00MCByYz1jcmYgbWJ0cmVlPTEgY3JmPTIzLjAgcWNvbXA9MC42MCBxcG1pbj0wIHFwbWF4PTY5IHFwc3RlcD00IGlwX3JhdGlvPTEuNDAgYXE9MToxLjAwAIAAAAD4ZYiEABT//vfHT8Cm6twiy51FPSEwitj6a3EULyJL5S3AAA91uFbqv7ZWaUG7Xkv9CF1kUGi8zcFPObsMMW6Sd2VgEahYIaZqKY4g4/N42m6rICEvNW2fcyp2hxgBFBPJIbLO8SOa1WTjbytIy2TFKlR6vr3scYcYCIMpK7eRpYYm3c8WasNVHI+RNxK7tcAyZa2ZGZR13HH9xyPAu+jeEu1nYhzhg0byVEmRtUrlz7AN6glA5i929qnEflBSd+1JtNXF1qAmmlPaXIDH89rqMR55u4MukrGziNofn4tbX3cuQdE+ke0l9wvqREsZQNf0S13Yldc5pi0AAABCQZokbEFP/taMsLy2/L4s/wRrkbMX43J3VyxSCAgRSA6LAp11FH6acepTeQLHZG7CoUV2RSi8Jl8LuMUvDbK5uOCAAAAAI0GeQniCPwA76iJqUwIuqi19DuvUOJ/l5G6WPNjNrWu247MZAAAAFgGeYXRBDwBINhPqUMADGpGDg1cMBngAAAAJAZ5jakEPAC0hAAAAEkGaaEmoQWiZTAgp//7WjLAQEQAAAAtBnoZFESwR/wAYEQAAAAkBnqV0QQ8ALSEAAAAJAZ6nakEPAC0gAAAAEkGarEmoQWyZTAgp//7WjLAQEAAAAAtBnspFFSwR/wAYEQAAAAkBnul0QQ8ALSAAAAAJAZ7rakEPAC0gAAAAEkGa8EmoQWyZTAgp//7WjLAQEQAAAAtBnw5FFSwR/wAYEQAAAAkBny10QQ8ALSEAAAAJAZ8vakEPAC0gAAAAEkGbNEmoQWyZTAgp//7WjLAQEAAAAAtBn1JFFSwR/wAYEQAAAAkBn3F0QQ8ALSAAAAAJAZ9zakEPAC0gAAAAEkGbeEmoQWyZTAgp//7WjLAQEQAAAAtBn5ZFFSwR/wAYEAAAAAkBn7V0QQ8ALSEAAAAJAZ+3akEPAC0hAAAAEkGbvEmoQWyZTAgp//7WjLAQEAAAAAtBn9pFFSwR/wAYEQAAAAkBn/l0QQ8ALSAAAAAJAZ/7akEPAC0hAAAAEkGb4EmoQWyZTAgp//7WjLAQEQAAAAtBnh5FFSwR/wAYEAAAAAkBnj10QQ8ALSAAAAAJAZ4/akEPAC0hAAAAEkGaJEmoQWyZTAgp//7WjLAQEAAAAAtBnkJFFSwR/wAYEQAAAAkBnmF0QQ8ALSAAAAAJAZ5jakEPAC0hAAAAEkGaaEmoQWyZTAgp//7WjLAQEQAAAAtBnoZFFSwR/wAYEQAAAAkBnqV0QQ8ALSEAAAAJAZ6nakEPAC0gAAAAEkGarEmoQWyZTAgn//61KoA64AAAAAtBnspFFSwR/wAYEQAAAAkBnul0QQ8ALSAAAAAJAZ7rakEPAC0gAAAAEkGa8EmoQWyZTAgl//61KoA64QAAAAtBnw5FFSwR/wAYEQAAAAkBny10QQ8ALSEAAAAJAZ8vakEPAC0gAAAAGEGbMkmoQWyZTBRMEP/+qlUmpXKIKpdeXgAAAAkBn1FqQQ8ALSEAAAV1bW9vdgAAAGxtdmhkAAAAAAAAAAAAAAAAAAAD6AAAMc4AAQAAAQAAAAAAAAAAAAAAAAEAAAAAAAAAAAAAAAAAAAABAAAAAAAAAAAAAAAAAABAAAAAAAAAAAAAAAAAAAAAAAAAAAAAAAAAAAAAAAAAAgAABJ90cmFrAAAAXHRraGQAAAADAAAAAAAAAAAAAAABAAAAAAAAMc4AAAAAAAAAAAAAAAAAAAAAAAEAAAAAAAAAAAAAAAAAAAABAAAAAAAAAAAAAAAAAABAAAAAAHAAAABwAAAAAAAkZWR0cwAAABxlbHN0AAAAAAAAAAEAADHOAAAgAAABAAAAAAQXbWRpYQAAACBtZGhkAAAAAAAAAAAAAAAAAABAAAADMABVxAAAAAAALWhkbHIAAAAAAAAAAHZpZGUAAAAAAAAAAAAAAABWaWRlb0hhbmRsZXIAAAADwm1pbmYAAAAUdm1oZAAAAAEAAAAAAAAAAAAAACRkaW5mAAAAHGRyZWYAAAAAAAAAAQAAAAx1cmwgAAAAAQAAA4JzdGJsAAAAlnN0c2QAAAAAAAAAAQAAAIZhdmMxAAAAAAAAAAEAAAAAAAAAAAAAAAAAAAAAAHAAcABIAAAASAAAAAAAAAABAAAAAAAAAAAAAAAAAAAAAAAAAAAAAAAAAAAAAAAAAAAAGP//AAAAMGF2Y0MBZAAK/+EAF2dkAAqs2Uc+hAAAAwAEAAADACA8SJZYAQAGaOvjyyLAAAAAGHN0dHMAAAAAAAAAAQAAADMAABAAAAAAFHN0c3MAAAAAAAAAAQAAAAEAAAGoY3R0cwAAAAAAAAAzAAAAAQAAIAAAAAABAABQAAAAAAEAACAAAAAAAQAAAAAAAAABAAAQAAAAAAEAAFAAAAAAAQAAIAAAAAABAAAAAAAAAAEAABAAAAAAAQAAUAAAAAABAAAgAAAAAAEAAAAAAAAAAQAAEAAAAAABAABQAAAAAAEAACAAAAAAAQAAAAAAAAABAAAQAAAAAAEAAFAAAAAAAQAAIAAAAAABAAAAAAAAAAEAABAAAAAAAQAAUAAAAAABAAAgAAAAAAEAAAAAAAAAAQAAEAAAAAABAABQAAAAAAEAACAAAAAAAQAAAAAAAAABAAAQAAAAAAEAAFAAAAAAAQAAIAAAAAABAAAAAAAAAAEAABAAAAAAAQAAUAAAAAABAAAgAAAAAAEAAAAAAAAAAQAAEAAAAAABAABQAAAAAAEAACAAAAAAAQAAAAAAAAABAAAQAAAAAAEAAFAAAAAAAQAAIAAAAAABAAAAAAAAAAEAABAAAAAAAQAAUAAAAAABAAAgAAAAAAEAAAAAAAAAAQAAEAAAAAABAAAwAAAAAAEAABAAAAAAHHN0c2MAAAAAAAAAAQAAAAEAAAAzAAAAAQAAAOBzdHN6AAAAAAAAAAAAAAAzAAADrQAAAEYAAAAnAAAAGgAAAA0AAAAWAAAADwAAAA0AAAANAAAAFgAAAA8AAAANAAAADQAAABYAAAAPAAAADQAAAA0AAAAWAAAADwAAAA0AAAANAAAAFgAAAA8AAAANAAAADQAAABYAAAAPAAAADQAAAA0AAAAWAAAADwAAAA0AAAANAAAAFgAAAA8AAAANAAAADQAAABYAAAAPAAAADQAAAA0AAAAWAAAADwAAAA0AAAANAAAAFgAAAA8AAAANAAAADQAAABwAAAANAAAAFHN0Y28AAAAAAAAAAQAAADAAAABidWR0YQAAAFptZXRhAAAAAAAAACFoZGxyAAAAAAAAAABtZGlyYXBwbAAAAAAAAAAAAAAAAC1pbHN0AAAAJal0b28AAAAdZGF0YQAAAAEAAAAATGF2ZjU4LjI5LjEwMA==\" type=\"video/mp4\" />\n",
              "             </video>"
            ]
          },
          "metadata": {}
        },
        {
          "output_type": "stream",
          "name": "stdout",
          "text": [
            "\n",
            "SHOWING VIDEO ppo_videos/rl-video-episode-4.mp4\n"
          ]
        },
        {
          "output_type": "display_data",
          "data": {
            "text/plain": [
              "<IPython.core.display.HTML object>"
            ],
            "text/html": [
              "<video alt=\"test\" autoplay\n",
              "                loop controls style=\"height: 400px;\">\n",
              "                <source src=\"data:video/mp4;base64,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\" type=\"video/mp4\" />\n",
              "             </video>"
            ]
          },
          "metadata": {}
        },
        {
          "output_type": "stream",
          "name": "stdout",
          "text": [
            "\n",
            "SHOWING VIDEO ppo_videos/rl-video-episode-5.mp4\n"
          ]
        },
        {
          "output_type": "display_data",
          "data": {
            "text/plain": [
              "<IPython.core.display.HTML object>"
            ],
            "text/html": [
              "<video alt=\"test\" autoplay\n",
              "                loop controls style=\"height: 400px;\">\n",
              "                <source src=\"data:video/mp4;base64,AAAAIGZ0eXBpc29tAAACAGlzb21pc28yYXZjMW1wNDEAAAAIZnJlZQAABFhtZGF0AAACrQYF//+p3EXpvebZSLeWLNgg2SPu73gyNjQgLSBjb3JlIDE1OSByMjk5MSAxNzcxYjU1IC0gSC4yNjQvTVBFRy00IEFWQyBjb2RlYyAtIENvcHlsZWZ0IDIwMDMtMjAxOSAtIGh0dHA6Ly93d3cudmlkZW9sYW4ub3JnL3gyNjQuaHRtbCAtIG9wdGlvbnM6IGNhYmFjPTEgcmVmPTMgZGVibG9jaz0xOjA6MCBhbmFseXNlPTB4MzoweDExMyBtZT1oZXggc3VibWU9NyBwc3k9MSBwc3lfcmQ9MS4wMDowLjAwIG1peGVkX3JlZj0xIG1lX3JhbmdlPTE2IGNocm9tYV9tZT0xIHRyZWxsaXM9MSA4eDhkY3Q9MSBjcW09MCBkZWFkem9uZT0yMSwxMSBmYXN0X3Bza2lwPTEgY2hyb21hX3FwX29mZnNldD0tMiB0aHJlYWRzPTMgbG9va2FoZWFkX3RocmVhZHM9MSBzbGljZWRfdGhyZWFkcz0wIG5yPTAgZGVjaW1hdGU9MSBpbnRlcmxhY2VkPTAgYmx1cmF5X2NvbXBhdD0wIGNvbnN0cmFpbmVkX2ludHJhPTAgYmZyYW1lcz0zIGJfcHlyYW1pZD0yIGJfYWRhcHQ9MSBiX2JpYXM9MCBkaXJlY3Q9MSB3ZWlnaHRiPTEgb3Blbl9nb3A9MCB3ZWlnaHRwPTIga2V5aW50PTI1MCBrZXlpbnRfbWluPTQgc2NlbmVjdXQ9NDAgaW50cmFfcmVmcmVzaD0wIHJjX2xvb2thaGVhZD00MCByYz1jcmYgbWJ0cmVlPTEgY3JmPTIzLjAgcWNvbXA9MC42MCBxcG1pbj0wIHFwbWF4PTY5IHFwc3RlcD00IGlwX3JhdGlvPTEuNDAgYXE9MToxLjAwAIAAAADoZYiEABL//vet34FNwys1a7pXOLTLq5Q1GjOvNh/29pMQ+cwUwVBLIdzCzeeNSDZh2DJnVHz/XmNvn/MuOIHvL5eeyJ5Gcfu4gYknf2wWx6eDheR4YGFEYe6na/wEdenHR1x0Yc0Udra6Ukjha8p7smhgXNSStP+6bBO1iUrbSl7tpY9GitJICFLn0csNTAL1PMhmjzM8aokuNjgyAymcoQyzTBKEmocV45ycVvjdePzmzcgVOBoRCw76P0Ei0MA39CLg3vr8mJXjppezKB6aJEJiu845eQtDRvqsWkAZVtf2SKpkdpjm5QAAADhBmiFsQS/+tHiN8wyknH4ndgoODQpnGyOHzMVCY/BkrUSwr4o7Ebro/4BQyw7qjkrAtDwcHX80oAAAAEJBmkI8IZMphBH//rTwGJeNMSDPgArYEFv6nLBnBr8kKHoNyCLjNMr1qumJBDSBM2dDpcnj6vp4CBR+1ThIGOcUkoEAAAAtQZpjSeEPJlMCCH/+qkBEa6EQSNFiBGGuB97mUdJ2nwgDln3nDROxMjChWdBAAAADKW1vb3YAAABsbXZoZAAAAAAAAAAAAAAAAAAAA+gAAAPoAAEAAAEAAAAAAAAAAAAAAAABAAAAAAAAAAAAAAAAAAAAAQAAAAAAAAAAAAAAAAAAQAAAAAAAAAAAAAAAAAAAAAAAAAAAAAAAAAAAAAAAAAIAAAJTdHJhawAAAFx0a2hkAAAAAwAAAAAAAAAAAAAAAQAAAAAAAAPoAAAAAAAAAAAAAAAAAAAAAAABAAAAAAAAAAAAAAAAAAAAAQAAAAAAAAAAAAAAAAAAQAAAAABwAAAAcAAAAAAAJGVkdHMAAAAcZWxzdAAAAAAAAAABAAAD6AAAIAAAAQAAAAABy21kaWEAAAAgbWRoZAAAAAAAAAAAAAAAAAAAQAAAAEAAVcQAAAAAAC1oZGxyAAAAAAAAAAB2aWRlAAAAAAAAAAAAAAAAVmlkZW9IYW5kbGVyAAAAAXZtaW5mAAAAFHZtaGQAAAABAAAAAAAAAAAAAAAkZGluZgAAABxkcmVmAAAAAAAAAAEAAAAMdXJsIAAAAAEAAAE2c3RibAAAAJZzdHNkAAAAAAAAAAEAAACGYXZjMQAAAAAAAAABAAAAAAAAAAAAAAAAAAAAAABwAHAASAAAAEgAAAAAAAAAAQAAAAAAAAAAAAAAAAAAAAAAAAAAAAAAAAAAAAAAAAAAABj//wAAADBhdmNDAWQACv/hABdnZAAKrNlHPoQAAAMABAAAAwAgPEiWWAEABmjr48siwAAAABhzdHRzAAAAAAAAAAEAAAAEAAAQAAAAABRzdHNzAAAAAAAAAAEAAAABAAAAGGN0dHMAAAAAAAAAAQAAAAQAACAAAAAAHHN0c2MAAAAAAAAAAQAAAAEAAAAEAAAAAQAAACRzdHN6AAAAAAAAAAAAAAAEAAADnQAAADwAAABGAAAAMQAAABRzdGNvAAAAAAAAAAEAAAAwAAAAYnVkdGEAAABabWV0YQAAAAAAAAAhaGRscgAAAAAAAAAAbWRpcmFwcGwAAAAAAAAAAAAAAAAtaWxzdAAAACWpdG9vAAAAHWRhdGEAAAABAAAAAExhdmY1OC4yOS4xMDA=\" type=\"video/mp4\" />\n",
              "             </video>"
            ]
          },
          "metadata": {}
        },
        {
          "output_type": "stream",
          "name": "stdout",
          "text": [
            "\n",
            "SHOWING VIDEO ppo_videos/rl-video-episode-6.mp4\n"
          ]
        },
        {
          "output_type": "display_data",
          "data": {
            "text/plain": [
              "<IPython.core.display.HTML object>"
            ],
            "text/html": [
              "<video alt=\"test\" autoplay\n",
              "                loop controls style=\"height: 400px;\">\n",
              "                <source src=\"data:video/mp4;base64,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\" type=\"video/mp4\" />\n",
              "             </video>"
            ]
          },
          "metadata": {}
        },
        {
          "output_type": "stream",
          "name": "stdout",
          "text": [
            "\n",
            "SHOWING VIDEO ppo_videos/rl-video-episode-7.mp4\n"
          ]
        },
        {
          "output_type": "display_data",
          "data": {
            "text/plain": [
              "<IPython.core.display.HTML object>"
            ],
            "text/html": [
              "<video alt=\"test\" autoplay\n",
              "                loop controls style=\"height: 400px;\">\n",
              "                <source src=\"data:video/mp4;base64,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\" type=\"video/mp4\" />\n",
              "             </video>"
            ]
          },
          "metadata": {}
        },
        {
          "output_type": "stream",
          "name": "stdout",
          "text": [
            "\n",
            "SHOWING VIDEO ppo_videos/rl-video-episode-8.mp4\n"
          ]
        },
        {
          "output_type": "display_data",
          "data": {
            "text/plain": [
              "<IPython.core.display.HTML object>"
            ],
            "text/html": [
              "<video alt=\"test\" autoplay\n",
              "                loop controls style=\"height: 400px;\">\n",
              "                <source src=\"data:video/mp4;base64,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\" type=\"video/mp4\" />\n",
              "             </video>"
            ]
          },
          "metadata": {}
        },
        {
          "output_type": "stream",
          "name": "stdout",
          "text": [
            "\n",
            "SHOWING VIDEO ppo_videos/rl-video-episode-9.mp4\n"
          ]
        },
        {
          "output_type": "display_data",
          "data": {
            "text/plain": [
              "<IPython.core.display.HTML object>"
            ],
            "text/html": [
              "<video alt=\"test\" autoplay\n",
              "                loop controls style=\"height: 400px;\">\n",
              "                <source src=\"data:video/mp4;base64,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\" type=\"video/mp4\" />\n",
              "             </video>"
            ]
          },
          "metadata": {}
        }
      ]
    },
    {
      "cell_type": "code",
      "source": [],
      "metadata": {
        "id": "3Ol0Y8Q8plKF"
      },
      "execution_count": null,
      "outputs": []
    }
  ]
}